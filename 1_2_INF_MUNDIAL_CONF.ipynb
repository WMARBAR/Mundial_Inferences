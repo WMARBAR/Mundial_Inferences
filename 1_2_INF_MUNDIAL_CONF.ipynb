{
  "cells": [
    {
      "cell_type": "code",
      "source": [
        "!git clone https://github.com/WMARBAR/Mundial_Inferences.git\n",
        "\n",
        "\n"
      ],
      "metadata": {
        "id": "rsQlzEEob6Np",
        "outputId": "37d9114b-d030-4596-9eeb-f895539bf038",
        "colab": {
          "base_uri": "https://localhost:8080/"
        }
      },
      "id": "rsQlzEEob6Np",
      "execution_count": 8,
      "outputs": [
        {
          "output_type": "stream",
          "name": "stdout",
          "text": [
            "fatal: destination path 'Mundial_Inferences' already exists and is not an empty directory.\n"
          ]
        }
      ]
    },
    {
      "cell_type": "markdown",
      "id": "73a855db",
      "metadata": {
        "id": "73a855db"
      },
      "source": [
        "# 1 - 2. PROBABILIDADES EMPIRICAS"
      ]
    },
    {
      "cell_type": "code",
      "source": [
        "import sys\n",
        "sys.path.append('/content/Mundial_Inferences')  # Asegúrate que esta ruta es correcta"
      ],
      "metadata": {
        "id": "wLW7t8AJcGUM"
      },
      "id": "wLW7t8AJcGUM",
      "execution_count": 9,
      "outputs": []
    },
    {
      "cell_type": "markdown",
      "id": "8650370e",
      "metadata": {
        "id": "8650370e"
      },
      "source": [
        "# LIBS"
      ]
    },
    {
      "cell_type": "code",
      "execution_count": 10,
      "id": "6ffb30ab",
      "metadata": {
        "id": "6ffb30ab"
      },
      "outputs": [],
      "source": [
        "# ==========================================\n",
        "# Análisis completo de jugadores mundialistas\n",
        "# Basado en confederación y condición de campeón\n",
        "# ==========================================\n",
        "\n",
        "\n",
        "from exps.loaders import Loaders\n",
        "from exps.mundial_exps_extended import Experimentos\n",
        "from exps.dists import AnalisisEstadistico\n",
        "import pandas as pd\n",
        "import scipy.stats as stats\n",
        "ld=Loaders()\n",
        "exper=Experimentos()\n",
        "\n",
        "\n",
        "# Cargar archivo Excel\n",
        "path = '/content/Mundial_Inferences/datain/Proyecto_mundial.xlsx'\n",
        "\n",
        "df_mundial= ld.cargar_excel(path,'Sheet1')\n",
        "\n",
        "# Inicializar clases\n",
        "dist = AnalisisEstadistico(df_mundial)\n",
        "exper = Experimentos()"
      ]
    },
    {
      "cell_type": "markdown",
      "id": "750a8f5b",
      "metadata": {
        "id": "750a8f5b"
      },
      "source": [
        "# SER CAMPEON DADO LA CONFEDERACION\n",
        "- **Espacio muestral:**  \n",
        "  $$ S = \\{ \\text{todos los jugadores registrados en los mundiales de la base de datos} \\} $$\n",
        "\n",
        "- **Evento:**  \n",
        "  $$ A = \\{ \\text{El jugador fue campeon} \\} = \\{1\\} $$\n"
      ]
    },
    {
      "cell_type": "code",
      "execution_count": 11,
      "id": "4069607b",
      "metadata": {
        "id": "4069607b",
        "outputId": "f6cb9913-f220-40aa-b624-ee4e4b6ab3b6",
        "colab": {
          "base_uri": "https://localhost:8080/"
        }
      },
      "outputs": [
        {
          "output_type": "stream",
          "name": "stdout",
          "text": [
            "--- Probabilidad empírica de ser campeón ---\n",
            "P(Campeón) = 0.0475\n",
            "\n",
            "--- Tabla de probabilidad conjunta (confederación vs campeón) ---\n",
            "dummy_campeon         0         1\n",
            "confederacion                    \n",
            "AFC            0.081325  0.000000\n",
            "CAF            0.090792  0.000000\n",
            "CONCACAF       0.089931  0.000000\n",
            "CONMEBOL       0.166738  0.021407\n",
            "OFC            0.004841  0.000000\n",
            "Otro           0.009574  0.000000\n",
            "UEFA           0.509251  0.026140\n",
            "\n",
            "--- Probabilidades marginales (confederación) ---\n",
            "confederacion\n",
            "UEFA        0.535392\n",
            "CONMEBOL    0.188145\n",
            "CAF         0.090792\n",
            "CONCACAF    0.089931\n",
            "AFC         0.081325\n",
            "Otro        0.009574\n",
            "OFC         0.004841\n",
            "Name: proportion, dtype: float64\n",
            "\n",
            "--- Probabilidad condicional P(Campeón | Confederación) ---\n",
            "dummy_campeon         0         1\n",
            "confederacion                    \n",
            "AFC            1.000000  0.000000\n",
            "CAF            1.000000  0.000000\n",
            "CONCACAF       1.000000  0.000000\n",
            "CONMEBOL       0.886221  0.113779\n",
            "OFC            1.000000  0.000000\n",
            "Otro           1.000000  0.000000\n",
            "UEFA           0.951175  0.048825\n",
            "\n",
            "--- Prueba de independencia ---\n",
            "AFC: P(A∩B) = 0.0000, P(A)*P(B) = 0.0039, Diferencia = 0.0039\n",
            "CAF: P(A∩B) = 0.0000, P(A)*P(B) = 0.0043, Diferencia = 0.0043\n",
            "CONCACAF: P(A∩B) = 0.0000, P(A)*P(B) = 0.0043, Diferencia = 0.0043\n",
            "CONMEBOL: P(A∩B) = 0.0214, P(A)*P(B) = 0.0089, Diferencia = 0.0125\n",
            "OFC: P(A∩B) = 0.0000, P(A)*P(B) = 0.0002, Diferencia = 0.0002\n",
            "Otro: P(A∩B) = 0.0000, P(A)*P(B) = 0.0005, Diferencia = 0.0005\n",
            "UEFA: P(A∩B) = 0.0261, P(A)*P(B) = 0.0255, Diferencia = 0.0007\n"
          ]
        }
      ],
      "source": [
        "\n",
        "\n",
        "# ==========================================\n",
        "# 1. Probabilidad frecuentista\n",
        "# ==========================================\n",
        "print(\"--- Probabilidad empírica de ser campeón ---\")\n",
        "p_empirica = exper.probabilidad_binaria_empirica(df_mundial, 'dummy_campeon')\n",
        "print(f\"P(Campeón) = {p_empirica:.4f}\\n\")\n",
        "\n",
        "# ==========================================\n",
        "# 2. Probabilidad conjunta y marginal\n",
        "# ==========================================\n",
        "print(\"--- Tabla de probabilidad conjunta (confederación vs campeón) ---\")\n",
        "tabla_conjunta = exper.tabla_probabilidad_conjunta(df_mundial, 'confederacion', 'dummy_campeon')\n",
        "print(tabla_conjunta)\n",
        "\n",
        "print(\"\\n--- Probabilidades marginales (confederación) ---\")\n",
        "p_marginal_confed = df_mundial['confederacion'].value_counts(normalize=True)\n",
        "print(p_marginal_confed)\n",
        "\n",
        "print(\"\\n--- Probabilidad condicional P(Campeón | Confederación) ---\")\n",
        "tabla_condicional = pd.crosstab(df_mundial['confederacion'], df_mundial['dummy_campeon'], normalize='index')\n",
        "print(tabla_condicional)\n",
        "\n",
        "# ==========================================\n",
        "# 3. Independencia entre confederación y ser campeón\n",
        "# ==========================================\n",
        "print(\"\\n--- Prueba de independencia ---\")\n",
        "for conf in tabla_conjunta.index:\n",
        "    p_conf = p_marginal_confed[conf]\n",
        "    p_conjunta = tabla_conjunta.loc[conf, 1] if 1 in tabla_conjunta.columns else 0\n",
        "    esperado = p_conf * p_empirica\n",
        "    print(f\"{conf}: P(A∩B) = {p_conjunta:.4f}, P(A)*P(B) = {esperado:.4f}, Diferencia = {abs(p_conjunta - esperado):.4f}\")\n",
        "\n",
        "\n"
      ]
    },
    {
      "cell_type": "markdown",
      "id": "40ad659e",
      "metadata": {
        "id": "40ad659e"
      },
      "source": [
        "# SER CAMPEON DADO EL PAIS\n",
        "- **Espacio muestral:**  \n",
        "  $$ S = \\{ \\text{todos los jugadores registrados en los mundiales de la base de datos} \\} $$\n",
        "\n",
        "- **Evento:**  \n",
        "  $$ A = \\{ \\text{El jugador fue campeon} \\} = \\{1\\} $$\n"
      ]
    },
    {
      "cell_type": "code",
      "execution_count": 12,
      "id": "a8a09f45",
      "metadata": {
        "id": "a8a09f45",
        "outputId": "82e1f3a9-7c76-4bdb-accf-cb4e630b0af2",
        "colab": {
          "base_uri": "https://localhost:8080/"
        }
      },
      "outputs": [
        {
          "output_type": "stream",
          "name": "stdout",
          "text": [
            "--- Tabla de probabilidad conjunta (pais vs campeón) ---\n",
            "dummy_campeon             0         1\n",
            "Seleccion                            \n",
            "Alemania Federal   0.033348  0.009574\n",
            "Alemania Oriental  0.002367  0.000000\n",
            "Angola             0.002582  0.000000\n",
            "Arabia Saudita     0.009574  0.000000\n",
            "Argelia            0.009682  0.000000\n",
            "...                     ...       ...\n",
            "Ucrania            0.002474  0.000000\n",
            "Unión Soviética    0.016566  0.000000\n",
            "Uruguay            0.023989  0.004733\n",
            "Yugoslavia         0.020762  0.000000\n",
            "Zaire              0.002367  0.000000\n",
            "\n",
            "[80 rows x 2 columns]\n",
            "\n",
            "--- Probabilidades marginales (pais) ---\n",
            "Seleccion\n",
            "Brasil                            0.047117\n",
            "Alemania Federal                  0.042922\n",
            "Italia                            0.042922\n",
            "Argentina                         0.037866\n",
            "México                            0.035284\n",
            "                                    ...   \n",
            "Irak                              0.002367\n",
            "Canadá                            0.002367\n",
            "Eslovaquia                        0.002367\n",
            "Indias Orientales Neerlandesas    0.001936\n",
            "Cuba                              0.001614\n",
            "Name: proportion, Length: 80, dtype: float64\n",
            "\n",
            "--- Probabilidad condicional P(Campeón | pais) ---\n",
            "dummy_campeon             0         1\n",
            "Seleccion                            \n",
            "Alemania Federal   0.776942  0.223058\n",
            "Alemania Oriental  1.000000  0.000000\n",
            "Angola             1.000000  0.000000\n",
            "Arabia Saudita     1.000000  0.000000\n",
            "Argelia            1.000000  0.000000\n",
            "...                     ...       ...\n",
            "Ucrania            1.000000  0.000000\n",
            "Unión Soviética    1.000000  0.000000\n",
            "Uruguay            0.835206  0.164794\n",
            "Yugoslavia         1.000000  0.000000\n",
            "Zaire              1.000000  0.000000\n",
            "\n",
            "[80 rows x 2 columns]\n",
            "\n",
            "--- Prueba de independencia ---\n",
            "Alemania Federal: P(A∩B) = 0.0096, P(A)*P(B) = 0.0020, Diferencia = 0.0075\n",
            "Alemania Oriental: P(A∩B) = 0.0000, P(A)*P(B) = 0.0001, Diferencia = 0.0001\n",
            "Angola: P(A∩B) = 0.0000, P(A)*P(B) = 0.0001, Diferencia = 0.0001\n",
            "Arabia Saudita: P(A∩B) = 0.0000, P(A)*P(B) = 0.0005, Diferencia = 0.0005\n",
            "Argelia: P(A∩B) = 0.0000, P(A)*P(B) = 0.0005, Diferencia = 0.0005\n",
            "Argentina: P(A∩B) = 0.0047, P(A)*P(B) = 0.0018, Diferencia = 0.0029\n",
            "Australia: P(A∩B) = 0.0000, P(A)*P(B) = 0.0005, Diferencia = 0.0005\n",
            "Austria: P(A∩B) = 0.0000, P(A)*P(B) = 0.0008, Diferencia = 0.0008\n",
            "Bolivia: P(A∩B) = 0.0000, P(A)*P(B) = 0.0003, Diferencia = 0.0003\n",
            "Bosnia y Herzegovina: P(A∩B) = 0.0000, P(A)*P(B) = 0.0001, Diferencia = 0.0001\n",
            "Brasil: P(A∩B) = 0.0119, P(A)*P(B) = 0.0022, Diferencia = 0.0097\n",
            "Bulgaria: P(A∩B) = 0.0000, P(A)*P(B) = 0.0008, Diferencia = 0.0008\n",
            "Bélgica: P(A∩B) = 0.0000, P(A)*P(B) = 0.0013, Diferencia = 0.0013\n",
            "Camerún: P(A∩B) = 0.0000, P(A)*P(B) = 0.0008, Diferencia = 0.0008\n",
            "Canadá: P(A∩B) = 0.0000, P(A)*P(B) = 0.0001, Diferencia = 0.0001\n",
            "Checoslovaquia: P(A∩B) = 0.0000, P(A)*P(B) = 0.0009, Diferencia = 0.0009\n",
            "Chile: P(A∩B) = 0.0000, P(A)*P(B) = 0.0010, Diferencia = 0.0010\n",
            "China: P(A∩B) = 0.0000, P(A)*P(B) = 0.0001, Diferencia = 0.0001\n",
            "Colombia: P(A∩B) = 0.0000, P(A)*P(B) = 0.0006, Diferencia = 0.0006\n",
            "Corea del Norte: P(A∩B) = 0.0000, P(A)*P(B) = 0.0002, Diferencia = 0.0002\n",
            "Corea del Sur: P(A∩B) = 0.0000, P(A)*P(B) = 0.0010, Diferencia = 0.0010\n",
            "Costa Rica: P(A∩B) = 0.0000, P(A)*P(B) = 0.0005, Diferencia = 0.0005\n",
            "Costa de Marfil: P(A∩B) = 0.0000, P(A)*P(B) = 0.0003, Diferencia = 0.0003\n",
            "Croacia: P(A∩B) = 0.0000, P(A)*P(B) = 0.0005, Diferencia = 0.0005\n",
            "Cuba: P(A∩B) = 0.0000, P(A)*P(B) = 0.0001, Diferencia = 0.0001\n",
            "Dinamarca: P(A∩B) = 0.0000, P(A)*P(B) = 0.0005, Diferencia = 0.0005\n",
            "Ecuador: P(A∩B) = 0.0000, P(A)*P(B) = 0.0003, Diferencia = 0.0003\n",
            "Egipto: P(A∩B) = 0.0000, P(A)*P(B) = 0.0002, Diferencia = 0.0002\n",
            "El Salvador: P(A∩B) = 0.0000, P(A)*P(B) = 0.0002, Diferencia = 0.0002\n",
            "Emiratos Árabes: P(A∩B) = 0.0000, P(A)*P(B) = 0.0001, Diferencia = 0.0001\n",
            "Escocia: P(A∩B) = 0.0000, P(A)*P(B) = 0.0009, Diferencia = 0.0009\n",
            "Eslovaquia: P(A∩B) = 0.0000, P(A)*P(B) = 0.0001, Diferencia = 0.0001\n",
            "Eslovenia: P(A∩B) = 0.0000, P(A)*P(B) = 0.0002, Diferencia = 0.0002\n",
            "España: P(A∩B) = 0.0023, P(A)*P(B) = 0.0016, Diferencia = 0.0007\n",
            "Estados Unidos: P(A∩B) = 0.0000, P(A)*P(B) = 0.0010, Diferencia = 0.0010\n",
            "Francia: P(A∩B) = 0.0024, P(A)*P(B) = 0.0014, Diferencia = 0.0009\n",
            "Gales: P(A∩B) = 0.0000, P(A)*P(B) = 0.0001, Diferencia = 0.0001\n",
            "Ghana: P(A∩B) = 0.0000, P(A)*P(B) = 0.0003, Diferencia = 0.0003\n",
            "Grecia: P(A∩B) = 0.0000, P(A)*P(B) = 0.0003, Diferencia = 0.0003\n",
            "Haití: P(A∩B) = 0.0000, P(A)*P(B) = 0.0001, Diferencia = 0.0001\n",
            "Honduras: P(A∩B) = 0.0000, P(A)*P(B) = 0.0003, Diferencia = 0.0003\n",
            "Hungría: P(A∩B) = 0.0000, P(A)*P(B) = 0.0010, Diferencia = 0.0010\n",
            "Indias Orientales Neerlandesas: P(A∩B) = 0.0000, P(A)*P(B) = 0.0001, Diferencia = 0.0001\n",
            "Inglaterra: P(A∩B) = 0.0024, P(A)*P(B) = 0.0016, Diferencia = 0.0008\n",
            "Irak: P(A∩B) = 0.0000, P(A)*P(B) = 0.0001, Diferencia = 0.0001\n",
            "Irlanda: P(A∩B) = 0.0000, P(A)*P(B) = 0.0003, Diferencia = 0.0003\n",
            "Irlanda del Norte: P(A∩B) = 0.0000, P(A)*P(B) = 0.0003, Diferencia = 0.0003\n",
            "Irán: P(A∩B) = 0.0000, P(A)*P(B) = 0.0005, Diferencia = 0.0005\n",
            "Israel: P(A∩B) = 0.0000, P(A)*P(B) = 0.0001, Diferencia = 0.0001\n",
            "Italia: P(A∩B) = 0.0096, P(A)*P(B) = 0.0020, Diferencia = 0.0075\n",
            "Jamaica: P(A∩B) = 0.0000, P(A)*P(B) = 0.0001, Diferencia = 0.0001\n",
            "Japón: P(A∩B) = 0.0000, P(A)*P(B) = 0.0006, Diferencia = 0.0006\n",
            "Kuwait: P(A∩B) = 0.0000, P(A)*P(B) = 0.0001, Diferencia = 0.0001\n",
            "Marruecos: P(A∩B) = 0.0000, P(A)*P(B) = 0.0004, Diferencia = 0.0004\n",
            "México: P(A∩B) = 0.0000, P(A)*P(B) = 0.0017, Diferencia = 0.0017\n",
            "Nigeria: P(A∩B) = 0.0000, P(A)*P(B) = 0.0006, Diferencia = 0.0006\n",
            "Noruega: P(A∩B) = 0.0000, P(A)*P(B) = 0.0003, Diferencia = 0.0003\n",
            "Nueva Zelanda: P(A∩B) = 0.0000, P(A)*P(B) = 0.0002, Diferencia = 0.0002\n",
            "Paraguay: P(A∩B) = 0.0000, P(A)*P(B) = 0.0009, Diferencia = 0.0009\n",
            "Países Bajos: P(A∩B) = 0.0000, P(A)*P(B) = 0.0011, Diferencia = 0.0011\n",
            "Perú: P(A∩B) = 0.0000, P(A)*P(B) = 0.0005, Diferencia = 0.0005\n",
            "Polonia: P(A∩B) = 0.0000, P(A)*P(B) = 0.0008, Diferencia = 0.0008\n",
            "Portugal: P(A∩B) = 0.0000, P(A)*P(B) = 0.0007, Diferencia = 0.0007\n",
            "República Checa: P(A∩B) = 0.0000, P(A)*P(B) = 0.0001, Diferencia = 0.0001\n",
            "Rumania: P(A∩B) = 0.0000, P(A)*P(B) = 0.0007, Diferencia = 0.0007\n",
            "Rusia: P(A∩B) = 0.0000, P(A)*P(B) = 0.0003, Diferencia = 0.0003\n",
            "Senegal: P(A∩B) = 0.0000, P(A)*P(B) = 0.0001, Diferencia = 0.0001\n",
            "Serbia: P(A∩B) = 0.0000, P(A)*P(B) = 0.0002, Diferencia = 0.0002\n",
            "Sudáfrica: P(A∩B) = 0.0000, P(A)*P(B) = 0.0004, Diferencia = 0.0004\n",
            "Suecia: P(A∩B) = 0.0000, P(A)*P(B) = 0.0012, Diferencia = 0.0012\n",
            "Suiza: P(A∩B) = 0.0000, P(A)*P(B) = 0.0011, Diferencia = 0.0011\n",
            "Togo: P(A∩B) = 0.0000, P(A)*P(B) = 0.0001, Diferencia = 0.0001\n",
            "Trinidad y Tobago: P(A∩B) = 0.0000, P(A)*P(B) = 0.0001, Diferencia = 0.0001\n",
            "Turquía: P(A∩B) = 0.0000, P(A)*P(B) = 0.0002, Diferencia = 0.0002\n",
            "Túnez: P(A∩B) = 0.0000, P(A)*P(B) = 0.0005, Diferencia = 0.0005\n",
            "Ucrania: P(A∩B) = 0.0000, P(A)*P(B) = 0.0001, Diferencia = 0.0001\n",
            "Unión Soviética: P(A∩B) = 0.0000, P(A)*P(B) = 0.0008, Diferencia = 0.0008\n",
            "Uruguay: P(A∩B) = 0.0047, P(A)*P(B) = 0.0014, Diferencia = 0.0034\n",
            "Yugoslavia: P(A∩B) = 0.0000, P(A)*P(B) = 0.0010, Diferencia = 0.0010\n",
            "Zaire: P(A∩B) = 0.0000, P(A)*P(B) = 0.0001, Diferencia = 0.0001\n"
          ]
        }
      ],
      "source": [
        "\n",
        "\n",
        "# ==========================================\n",
        "# 2. Probabilidad conjunta y marginal\n",
        "# ==========================================\n",
        "print(\"--- Tabla de probabilidad conjunta (pais vs campeón) ---\")\n",
        "tabla_conjunta = exper.tabla_probabilidad_conjunta(df_mundial, 'Seleccion', 'dummy_campeon')\n",
        "print(tabla_conjunta)\n",
        "\n",
        "print(\"\\n--- Probabilidades marginales (pais) ---\")\n",
        "p_marginal_confed = df_mundial['Seleccion'].value_counts(normalize=True)\n",
        "print(p_marginal_confed)\n",
        "\n",
        "print(\"\\n--- Probabilidad condicional P(Campeón | pais) ---\")\n",
        "tabla_condicional = pd.crosstab(df_mundial['Seleccion'], df_mundial['dummy_campeon'], normalize='index')\n",
        "print(tabla_condicional)\n",
        "\n",
        "# ==========================================\n",
        "# 3. Independencia entre pais y ser campeón\n",
        "# ==========================================\n",
        "print(\"\\n--- Prueba de independencia ---\")\n",
        "for conf in tabla_conjunta.index:\n",
        "    p_conf = p_marginal_confed[conf]\n",
        "    p_conjunta = tabla_conjunta.loc[conf, 1] if 1 in tabla_conjunta.columns else 0\n",
        "    esperado = p_conf * p_empirica\n",
        "    print(f\"{conf}: P(A∩B) = {p_conjunta:.4f}, P(A)*P(B) = {esperado:.4f}, Diferencia = {abs(p_conjunta - esperado):.4f}\")\n",
        "\n",
        "\n"
      ]
    },
    {
      "cell_type": "markdown",
      "id": "e527c9ac",
      "metadata": {
        "id": "e527c9ac"
      },
      "source": [
        "# DISTRIBUCION BINOMIAL\n"
      ]
    },
    {
      "cell_type": "code",
      "execution_count": 13,
      "id": "120af62a",
      "metadata": {
        "id": "120af62a",
        "outputId": "f5b99787-d113-4c97-af7e-2c04b76fc319",
        "colab": {
          "base_uri": "https://localhost:8080/",
          "height": 915
        }
      },
      "outputs": [
        {
          "output_type": "stream",
          "name": "stdout",
          "text": [
            "\n",
            "--- Distribución Binomial ---\n"
          ]
        },
        {
          "output_type": "display_data",
          "data": {
            "text/plain": [
              "<Figure size 640x480 with 1 Axes>"
            ],
            "image/png": "[encoded data removed]"
          },
          "metadata": {}
        },
        {
          "output_type": "execute_result",
          "data": {
            "text/plain": [
              "         x        P(X=x)\n",
              "0        0  6.972726e-22\n",
              "1        1  3.480850e-20\n",
              "2        2  8.679678e-19\n",
              "3        3  1.441437e-17\n",
              "4        4  1.793550e-16\n",
              "...    ...           ...\n",
              "996    996  0.000000e+00\n",
              "997    997  0.000000e+00\n",
              "998    998  0.000000e+00\n",
              "999    999  0.000000e+00\n",
              "1000  1000  0.000000e+00\n",
              "\n",
              "[1001 rows x 2 columns]"
            ],
            "text/html": [
              "\n",
              "  <div id=\"df-4f508595-6131-486b-ba7b-3e1234485328\" class=\"colab-df-container\">\n",
              "    <div>\n",
              "<style scoped>\n",
              "    .dataframe tbody tr th:only-of-type {\n",
              "        vertical-align: middle;\n",
              "    }\n",
              "\n",
              "    .dataframe tbody tr th {\n",
              "        vertical-align: top;\n",
              "    }\n",
              "\n",
              "    .dataframe thead th {\n",
              "        text-align: right;\n",
              "    }\n",
              "</style>\n",
              "<table border=\"1\" class=\"dataframe\">\n",
              "  <thead>\n",
              "    <tr style=\"text-align: right;\">\n",
              "      <th></th>\n",
              "      <th>x</th>\n",
              "      <th>P(X=x)</th>\n",
              "    </tr>\n",
              "  </thead>\n",
              "  <tbody>\n",
              "    <tr>\n",
              "      <th>0</th>\n",
              "      <td>0</td>\n",
              "      <td>6.972726e-22</td>\n",
              "    </tr>\n",
              "    <tr>\n",
              "      <th>1</th>\n",
              "      <td>1</td>\n",
              "      <td>3.480850e-20</td>\n",
              "    </tr>\n",
              "    <tr>\n",
              "      <th>2</th>\n",
              "      <td>2</td>\n",
              "      <td>8.679678e-19</td>\n",
              "    </tr>\n",
              "    <tr>\n",
              "      <th>3</th>\n",
              "      <td>3</td>\n",
              "      <td>1.441437e-17</td>\n",
              "    </tr>\n",
              "    <tr>\n",
              "      <th>4</th>\n",
              "      <td>4</td>\n",
              "      <td>1.793550e-16</td>\n",
              "    </tr>\n",
              "    <tr>\n",
              "      <th>...</th>\n",
              "      <td>...</td>\n",
              "      <td>...</td>\n",
              "    </tr>\n",
              "    <tr>\n",
              "      <th>996</th>\n",
              "      <td>996</td>\n",
              "      <td>0.000000e+00</td>\n",
              "    </tr>\n",
              "    <tr>\n",
              "      <th>997</th>\n",
              "      <td>997</td>\n",
              "      <td>0.000000e+00</td>\n",
              "    </tr>\n",
              "    <tr>\n",
              "      <th>998</th>\n",
              "      <td>998</td>\n",
              "      <td>0.000000e+00</td>\n",
              "    </tr>\n",
              "    <tr>\n",
              "      <th>999</th>\n",
              "      <td>999</td>\n",
              "      <td>0.000000e+00</td>\n",
              "    </tr>\n",
              "    <tr>\n",
              "      <th>1000</th>\n",
              "      <td>1000</td>\n",
              "      <td>0.000000e+00</td>\n",
              "    </tr>\n",
              "  </tbody>\n",
              "</table>\n",
              "<p>1001 rows × 2 columns</p>\n",
              "</div>\n",
              "    <div class=\"colab-df-buttons\">\n",
              "\n",
              "  <div class=\"colab-df-container\">\n",
              "    <button class=\"colab-df-convert\" onclick=\"convertToInteractive('df-4f508595-6131-486b-ba7b-3e1234485328')\"\n",
              "            title=\"Convert this dataframe to an interactive table.\"\n",
              "            style=\"display:none;\">\n",
              "\n",
              "  <svg xmlns=\"http://www.w3.org/2000/svg\" height=\"24px\" viewBox=\"0 -960 960 960\">\n",
              "    <path d=\"M120-120v-720h720v720H120Zm60-500h600v-160H180v160Zm220 220h160v-160H400v160Zm0 220h160v-160H400v160ZM180-400h160v-160H180v160Zm440 0h160v-160H620v160ZM180-180h160v-160H180v160Zm440 0h160v-160H620v160Z\"/>\n",
              "  </svg>\n",
              "    </button>\n",
              "\n",
              "  <style>\n",
              "    .colab-df-container {\n",
              "      display:flex;\n",
              "      gap: 12px;\n",
              "    }\n",
              "\n",
              "    .colab-df-convert {\n",
              "      background-color: #E8F0FE;\n",
              "      border: none;\n",
              "      border-radius: 50%;\n",
              "      cursor: pointer;\n",
              "      display: none;\n",
              "      fill: #1967D2;\n",
              "      height: 32px;\n",
              "      padding: 0 0 0 0;\n",
              "      width: 32px;\n",
              "    }\n",
              "\n",
              "    .colab-df-convert:hover {\n",
              "      background-color: #E2EBFA;\n",
              "      box-shadow: 0px 1px 2px rgba(60, 64, 67, 0.3), 0px 1px 3px 1px rgba(60, 64, 67, 0.15);\n",
              "      fill: #174EA6;\n",
              "    }\n",
              "\n",
              "    .colab-df-buttons div {\n",
              "      margin-bottom: 4px;\n",
              "    }\n",
              "\n",
              "    [theme=dark] .colab-df-convert {\n",
              "      background-color: #3B4455;\n",
              "      fill: #D2E3FC;\n",
              "    }\n",
              "\n",
              "    [theme=dark] .colab-df-convert:hover {\n",
              "      background-color: #434B5C;\n",
              "      box-shadow: 0px 1px 3px 1px rgba(0, 0, 0, 0.15);\n",
              "      filter: drop-shadow(0px 1px 2px rgba(0, 0, 0, 0.3));\n",
              "      fill: #FFFFFF;\n",
              "    }\n",
              "  </style>\n",
              "\n",
              "    <script>\n",
              "      const buttonEl =\n",
              "        document.querySelector('#df-4f508595-6131-486b-ba7b-3e1234485328 button.colab-df-convert');\n",
              "      buttonEl.style.display =\n",
              "        google.colab.kernel.accessAllowed ? 'block' : 'none';\n",
              "\n",
              "      async function convertToInteractive(key) {\n",
              "        const element = document.querySelector('#df-4f508595-6131-486b-ba7b-3e1234485328');\n",
              "        const dataTable =\n",
              "          await google.colab.kernel.invokeFunction('convertToInteractive',\n",
              "                                                    [key], {});\n",
              "        if (!dataTable) return;\n",
              "\n",
              "        const docLinkHtml = 'Like what you see? Visit the ' +\n",
              "          '<a target=\"_blank\" href=https://colab.research.google.com/notebooks/data_table.ipynb>data table notebook</a>'\n",
              "          + ' to learn more about interactive tables.';\n",
              "        element.innerHTML = '';\n",
              "        dataTable['output_type'] = 'display_data';\n",
              "        await google.colab.output.renderOutput(dataTable, element);\n",
              "        const docLink = document.createElement('div');\n",
              "        docLink.innerHTML = docLinkHtml;\n",
              "        element.appendChild(docLink);\n",
              "      }\n",
              "    </script>\n",
              "  </div>\n",
              "\n",
              "\n",
              "    <div id=\"df-d1bd4233-0039-4621-9adb-440fbf9064b1\">\n",
              "      <button class=\"colab-df-quickchart\" onclick=\"quickchart('df-d1bd4233-0039-4621-9adb-440fbf9064b1')\"\n",
              "                title=\"Suggest charts\"\n",
              "                style=\"display:none;\">\n",
              "\n",
              "<svg xmlns=\"http://www.w3.org/2000/svg\" height=\"24px\"viewBox=\"0 0 24 24\"\n",
              "     width=\"24px\">\n",
              "    <g>\n",
              "        <path d=\"M19 3H5c-1.1 0-2 .9-2 2v14c0 1.1.9 2 2 2h14c1.1 0 2-.9 2-2V5c0-1.1-.9-2-2-2zM9 17H7v-7h2v7zm4 0h-2V7h2v10zm4 0h-2v-4h2v4z\"/>\n",
              "    </g>\n",
              "</svg>\n",
              "      </button>\n",
              "\n",
              "<style>\n",
              "  .colab-df-quickchart {\n",
              "      --bg-color: #E8F0FE;\n",
              "      --fill-color: #1967D2;\n",
              "      --hover-bg-color: #E2EBFA;\n",
              "      --hover-fill-color: #174EA6;\n",
              "      --disabled-fill-color: #AAA;\n",
              "      --disabled-bg-color: #DDD;\n",
              "  }\n",
              "\n",
              "  [theme=dark] .colab-df-quickchart {\n",
              "      --bg-color: #3B4455;\n",
              "      --fill-color: #D2E3FC;\n",
              "      --hover-bg-color: #434B5C;\n",
              "      --hover-fill-color: #FFFFFF;\n",
              "      --disabled-bg-color: #3B4455;\n",
              "      --disabled-fill-color: #666;\n",
              "  }\n",
              "\n",
              "  .colab-df-quickchart {\n",
              "    background-color: var(--bg-color);\n",
              "    border: none;\n",
              "    border-radius: 50%;\n",
              "    cursor: pointer;\n",
              "    display: none;\n",
              "    fill: var(--fill-color);\n",
              "    height: 32px;\n",
              "    padding: 0;\n",
              "    width: 32px;\n",
              "  }\n",
              "\n",
              "  .colab-df-quickchart:hover {\n",
              "    background-color: var(--hover-bg-color);\n",
              "    box-shadow: 0 1px 2px rgba(60, 64, 67, 0.3), 0 1px 3px 1px rgba(60, 64, 67, 0.15);\n",
              "    fill: var(--button-hover-fill-color);\n",
              "  }\n",
              "\n",
              "  .colab-df-quickchart-complete:disabled,\n",
              "  .colab-df-quickchart-complete:disabled:hover {\n",
              "    background-color: var(--disabled-bg-color);\n",
              "    fill: var(--disabled-fill-color);\n",
              "    box-shadow: none;\n",
              "  }\n",
              "\n",
              "  .colab-df-spinner {\n",
              "    border: 2px solid var(--fill-color);\n",
              "    border-color: transparent;\n",
              "    border-bottom-color: var(--fill-color);\n",
              "    animation:\n",
              "      spin 1s steps(1) infinite;\n",
              "  }\n",
              "\n",
              "  @keyframes spin {\n",
              "    0% {\n",
              "      border-color: transparent;\n",
              "      border-bottom-color: var(--fill-color);\n",
              "      border-left-color: var(--fill-color);\n",
              "    }\n",
              "    20% {\n",
              "      border-color: transparent;\n",
              "      border-left-color: var(--fill-color);\n",
              "      border-top-color: var(--fill-color);\n",
              "    }\n",
              "    30% {\n",
              "      border-color: transparent;\n",
              "      border-left-color: var(--fill-color);\n",
              "      border-top-color: var(--fill-color);\n",
              "      border-right-color: var(--fill-color);\n",
              "    }\n",
              "    40% {\n",
              "      border-color: transparent;\n",
              "      border-right-color: var(--fill-color);\n",
              "      border-top-color: var(--fill-color);\n",
              "    }\n",
              "    60% {\n",
              "      border-color: transparent;\n",
              "      border-right-color: var(--fill-color);\n",
              "    }\n",
              "    80% {\n",
              "      border-color: transparent;\n",
              "      border-right-color: var(--fill-color);\n",
              "      border-bottom-color: var(--fill-color);\n",
              "    }\n",
              "    90% {\n",
              "      border-color: transparent;\n",
              "      border-bottom-color: var(--fill-color);\n",
              "    }\n",
              "  }\n",
              "</style>\n",
              "\n",
              "      <script>\n",
              "        async function quickchart(key) {\n",
              "          const quickchartButtonEl =\n",
              "            document.querySelector('#' + key + ' button');\n",
              "          quickchartButtonEl.disabled = true;  // To prevent multiple clicks.\n",
              "          quickchartButtonEl.classList.add('colab-df-spinner');\n",
              "          try {\n",
              "            const charts = await google.colab.kernel.invokeFunction(\n",
              "                'suggestCharts', [key], {});\n",
              "          } catch (error) {\n",
              "            console.error('Error during call to suggestCharts:', error);\n",
              "          }\n",
              "          quickchartButtonEl.classList.remove('colab-df-spinner');\n",
              "          quickchartButtonEl.classList.add('colab-df-quickchart-complete');\n",
              "        }\n",
              "        (() => {\n",
              "          let quickchartButtonEl =\n",
              "            document.querySelector('#df-d1bd4233-0039-4621-9adb-440fbf9064b1 button');\n",
              "          quickchartButtonEl.style.display =\n",
              "            google.colab.kernel.accessAllowed ? 'block' : 'none';\n",
              "        })();\n",
              "      </script>\n",
              "    </div>\n",
              "\n",
              "    </div>\n",
              "  </div>\n"
            ],
            "application/vnd.google.colaboratory.intrinsic+json": {
              "type": "dataframe",
              "summary": "{\n  \"name\": \"dist\",\n  \"rows\": 1001,\n  \"fields\": [\n    {\n      \"column\": \"x\",\n      \"properties\": {\n        \"dtype\": \"number\",\n        \"std\": 289,\n        \"min\": 0,\n        \"max\": 1000,\n        \"num_unique_values\": 1001,\n        \"samples\": [\n          521,\n          941,\n          741\n        ],\n        \"semantic_type\": \"\",\n        \"description\": \"\"\n      }\n    },\n    {\n      \"column\": \"P(X=x)\",\n      \"properties\": {\n        \"dtype\": \"number\",\n        \"std\": 0.006400182281637395,\n        \"min\": 0.0,\n        \"max\": 0.059306348196504814,\n        \"num_unique_values\": 463,\n        \"samples\": [\n          9.708056868858805e-85,\n          0.001504601155570332,\n          0.02759442380250107\n        ],\n        \"semantic_type\": \"\",\n        \"description\": \"\"\n      }\n    }\n  ]\n}"
            }
          },
          "metadata": {},
          "execution_count": 13
        }
      ],
      "source": [
        "# ==========================================\n",
        "# 4. Distribución Binomial - campeones en muestra de 30\n",
        "# ==========================================\n",
        "print(\"\\n--- Distribución Binomial ---\")\n",
        "dist.analisis_binomial('dummy_campeon', n=1000)\n"
      ]
    },
    {
      "cell_type": "markdown",
      "id": "ff9ea789",
      "metadata": {
        "id": "ff9ea789"
      },
      "source": [
        "# DISTRIBUCION DE POISSON\n",
        "Goles Marcados(mundial);\n",
        "Partidos Jugados;\n",
        "years_expMundial;\n",
        "edad_Player;"
      ]
    },
    {
      "cell_type": "code",
      "execution_count": 14,
      "id": "37fb3c08",
      "metadata": {
        "id": "37fb3c08",
        "outputId": "bd46527d-b550-453c-b909-e7d9f30205ec",
        "colab": {
          "base_uri": "https://localhost:8080/",
          "height": 917
        }
      },
      "outputs": [
        {
          "output_type": "stream",
          "name": "stdout",
          "text": [
            "\n",
            "--- Distribución de Poisson (Goles Marcados) ---\n"
          ]
        },
        {
          "output_type": "display_data",
          "data": {
            "text/plain": [
              "<Figure size 640x480 with 1 Axes>"
            ],
            "image/png": "[encoded data removed]"
          },
          "metadata": {}
        },
        {
          "output_type": "execute_result",
          "data": {
            "text/plain": [
              "     x    P(X=x)\n",
              "0    0  0.068381\n",
              "1    1  0.183443\n",
              "2    2  0.246058\n",
              "3    3  0.220030\n",
              "4    4  0.147566\n",
              "5    5  0.079174\n",
              "6    6  0.035399\n",
              "7    7  0.013566\n",
              "8    8  0.004549\n",
              "9    9  0.001356\n",
              "10  10  0.000364\n",
              "11  11  0.000089"
            ],
            "text/html": [
              "\n",
              "  <div id=\"df-50df355e-5f2e-41e4-a8b2-3bf10008031e\" class=\"colab-df-container\">\n",
              "    <div>\n",
              "<style scoped>\n",
              "    .dataframe tbody tr th:only-of-type {\n",
              "        vertical-align: middle;\n",
              "    }\n",
              "\n",
              "    .dataframe tbody tr th {\n",
              "        vertical-align: top;\n",
              "    }\n",
              "\n",
              "    .dataframe thead th {\n",
              "        text-align: right;\n",
              "    }\n",
              "</style>\n",
              "<table border=\"1\" class=\"dataframe\">\n",
              "  <thead>\n",
              "    <tr style=\"text-align: right;\">\n",
              "      <th></th>\n",
              "      <th>x</th>\n",
              "      <th>P(X=x)</th>\n",
              "    </tr>\n",
              "  </thead>\n",
              "  <tbody>\n",
              "    <tr>\n",
              "      <th>0</th>\n",
              "      <td>0</td>\n",
              "      <td>0.068381</td>\n",
              "    </tr>\n",
              "    <tr>\n",
              "      <th>1</th>\n",
              "      <td>1</td>\n",
              "      <td>0.183443</td>\n",
              "    </tr>\n",
              "    <tr>\n",
              "      <th>2</th>\n",
              "      <td>2</td>\n",
              "      <td>0.246058</td>\n",
              "    </tr>\n",
              "    <tr>\n",
              "      <th>3</th>\n",
              "      <td>3</td>\n",
              "      <td>0.220030</td>\n",
              "    </tr>\n",
              "    <tr>\n",
              "      <th>4</th>\n",
              "      <td>4</td>\n",
              "      <td>0.147566</td>\n",
              "    </tr>\n",
              "    <tr>\n",
              "      <th>5</th>\n",
              "      <td>5</td>\n",
              "      <td>0.079174</td>\n",
              "    </tr>\n",
              "    <tr>\n",
              "      <th>6</th>\n",
              "      <td>6</td>\n",
              "      <td>0.035399</td>\n",
              "    </tr>\n",
              "    <tr>\n",
              "      <th>7</th>\n",
              "      <td>7</td>\n",
              "      <td>0.013566</td>\n",
              "    </tr>\n",
              "    <tr>\n",
              "      <th>8</th>\n",
              "      <td>8</td>\n",
              "      <td>0.004549</td>\n",
              "    </tr>\n",
              "    <tr>\n",
              "      <th>9</th>\n",
              "      <td>9</td>\n",
              "      <td>0.001356</td>\n",
              "    </tr>\n",
              "    <tr>\n",
              "      <th>10</th>\n",
              "      <td>10</td>\n",
              "      <td>0.000364</td>\n",
              "    </tr>\n",
              "    <tr>\n",
              "      <th>11</th>\n",
              "      <td>11</td>\n",
              "      <td>0.000089</td>\n",
              "    </tr>\n",
              "  </tbody>\n",
              "</table>\n",
              "</div>\n",
              "    <div class=\"colab-df-buttons\">\n",
              "\n",
              "  <div class=\"colab-df-container\">\n",
              "    <button class=\"colab-df-convert\" onclick=\"convertToInteractive('df-50df355e-5f2e-41e4-a8b2-3bf10008031e')\"\n",
              "            title=\"Convert this dataframe to an interactive table.\"\n",
              "            style=\"display:none;\">\n",
              "\n",
              "  <svg xmlns=\"http://www.w3.org/2000/svg\" height=\"24px\" viewBox=\"0 -960 960 960\">\n",
              "    <path d=\"M120-120v-720h720v720H120Zm60-500h600v-160H180v160Zm220 220h160v-160H400v160Zm0 220h160v-160H400v160ZM180-400h160v-160H180v160Zm440 0h160v-160H620v160ZM180-180h160v-160H180v160Zm440 0h160v-160H620v160Z\"/>\n",
              "  </svg>\n",
              "    </button>\n",
              "\n",
              "  <style>\n",
              "    .colab-df-container {\n",
              "      display:flex;\n",
              "      gap: 12px;\n",
              "    }\n",
              "\n",
              "    .colab-df-convert {\n",
              "      background-color: #E8F0FE;\n",
              "      border: none;\n",
              "      border-radius: 50%;\n",
              "      cursor: pointer;\n",
              "      display: none;\n",
              "      fill: #1967D2;\n",
              "      height: 32px;\n",
              "      padding: 0 0 0 0;\n",
              "      width: 32px;\n",
              "    }\n",
              "\n",
              "    .colab-df-convert:hover {\n",
              "      background-color: #E2EBFA;\n",
              "      box-shadow: 0px 1px 2px rgba(60, 64, 67, 0.3), 0px 1px 3px 1px rgba(60, 64, 67, 0.15);\n",
              "      fill: #174EA6;\n",
              "    }\n",
              "\n",
              "    .colab-df-buttons div {\n",
              "      margin-bottom: 4px;\n",
              "    }\n",
              "\n",
              "    [theme=dark] .colab-df-convert {\n",
              "      background-color: #3B4455;\n",
              "      fill: #D2E3FC;\n",
              "    }\n",
              "\n",
              "    [theme=dark] .colab-df-convert:hover {\n",
              "      background-color: #434B5C;\n",
              "      box-shadow: 0px 1px 3px 1px rgba(0, 0, 0, 0.15);\n",
              "      filter: drop-shadow(0px 1px 2px rgba(0, 0, 0, 0.3));\n",
              "      fill: #FFFFFF;\n",
              "    }\n",
              "  </style>\n",
              "\n",
              "    <script>\n",
              "      const buttonEl =\n",
              "        document.querySelector('#df-50df355e-5f2e-41e4-a8b2-3bf10008031e button.colab-df-convert');\n",
              "      buttonEl.style.display =\n",
              "        google.colab.kernel.accessAllowed ? 'block' : 'none';\n",
              "\n",
              "      async function convertToInteractive(key) {\n",
              "        const element = document.querySelector('#df-50df355e-5f2e-41e4-a8b2-3bf10008031e');\n",
              "        const dataTable =\n",
              "          await google.colab.kernel.invokeFunction('convertToInteractive',\n",
              "                                                    [key], {});\n",
              "        if (!dataTable) return;\n",
              "\n",
              "        const docLinkHtml = 'Like what you see? Visit the ' +\n",
              "          '<a target=\"_blank\" href=https://colab.research.google.com/notebooks/data_table.ipynb>data table notebook</a>'\n",
              "          + ' to learn more about interactive tables.';\n",
              "        element.innerHTML = '';\n",
              "        dataTable['output_type'] = 'display_data';\n",
              "        await google.colab.output.renderOutput(dataTable, element);\n",
              "        const docLink = document.createElement('div');\n",
              "        docLink.innerHTML = docLinkHtml;\n",
              "        element.appendChild(docLink);\n",
              "      }\n",
              "    </script>\n",
              "  </div>\n",
              "\n",
              "\n",
              "    <div id=\"df-dc325b80-1cf7-41ed-bce9-f89c50b7a8b3\">\n",
              "      <button class=\"colab-df-quickchart\" onclick=\"quickchart('df-dc325b80-1cf7-41ed-bce9-f89c50b7a8b3')\"\n",
              "                title=\"Suggest charts\"\n",
              "                style=\"display:none;\">\n",
              "\n",
              "<svg xmlns=\"http://www.w3.org/2000/svg\" height=\"24px\"viewBox=\"0 0 24 24\"\n",
              "     width=\"24px\">\n",
              "    <g>\n",
              "        <path d=\"M19 3H5c-1.1 0-2 .9-2 2v14c0 1.1.9 2 2 2h14c1.1 0 2-.9 2-2V5c0-1.1-.9-2-2-2zM9 17H7v-7h2v7zm4 0h-2V7h2v10zm4 0h-2v-4h2v4z\"/>\n",
              "    </g>\n",
              "</svg>\n",
              "      </button>\n",
              "\n",
              "<style>\n",
              "  .colab-df-quickchart {\n",
              "      --bg-color: #E8F0FE;\n",
              "      --fill-color: #1967D2;\n",
              "      --hover-bg-color: #E2EBFA;\n",
              "      --hover-fill-color: #174EA6;\n",
              "      --disabled-fill-color: #AAA;\n",
              "      --disabled-bg-color: #DDD;\n",
              "  }\n",
              "\n",
              "  [theme=dark] .colab-df-quickchart {\n",
              "      --bg-color: #3B4455;\n",
              "      --fill-color: #D2E3FC;\n",
              "      --hover-bg-color: #434B5C;\n",
              "      --hover-fill-color: #FFFFFF;\n",
              "      --disabled-bg-color: #3B4455;\n",
              "      --disabled-fill-color: #666;\n",
              "  }\n",
              "\n",
              "  .colab-df-quickchart {\n",
              "    background-color: var(--bg-color);\n",
              "    border: none;\n",
              "    border-radius: 50%;\n",
              "    cursor: pointer;\n",
              "    display: none;\n",
              "    fill: var(--fill-color);\n",
              "    height: 32px;\n",
              "    padding: 0;\n",
              "    width: 32px;\n",
              "  }\n",
              "\n",
              "  .colab-df-quickchart:hover {\n",
              "    background-color: var(--hover-bg-color);\n",
              "    box-shadow: 0 1px 2px rgba(60, 64, 67, 0.3), 0 1px 3px 1px rgba(60, 64, 67, 0.15);\n",
              "    fill: var(--button-hover-fill-color);\n",
              "  }\n",
              "\n",
              "  .colab-df-quickchart-complete:disabled,\n",
              "  .colab-df-quickchart-complete:disabled:hover {\n",
              "    background-color: var(--disabled-bg-color);\n",
              "    fill: var(--disabled-fill-color);\n",
              "    box-shadow: none;\n",
              "  }\n",
              "\n",
              "  .colab-df-spinner {\n",
              "    border: 2px solid var(--fill-color);\n",
              "    border-color: transparent;\n",
              "    border-bottom-color: var(--fill-color);\n",
              "    animation:\n",
              "      spin 1s steps(1) infinite;\n",
              "  }\n",
              "\n",
              "  @keyframes spin {\n",
              "    0% {\n",
              "      border-color: transparent;\n",
              "      border-bottom-color: var(--fill-color);\n",
              "      border-left-color: var(--fill-color);\n",
              "    }\n",
              "    20% {\n",
              "      border-color: transparent;\n",
              "      border-left-color: var(--fill-color);\n",
              "      border-top-color: var(--fill-color);\n",
              "    }\n",
              "    30% {\n",
              "      border-color: transparent;\n",
              "      border-left-color: var(--fill-color);\n",
              "      border-top-color: var(--fill-color);\n",
              "      border-right-color: var(--fill-color);\n",
              "    }\n",
              "    40% {\n",
              "      border-color: transparent;\n",
              "      border-right-color: var(--fill-color);\n",
              "      border-top-color: var(--fill-color);\n",
              "    }\n",
              "    60% {\n",
              "      border-color: transparent;\n",
              "      border-right-color: var(--fill-color);\n",
              "    }\n",
              "    80% {\n",
              "      border-color: transparent;\n",
              "      border-right-color: var(--fill-color);\n",
              "      border-bottom-color: var(--fill-color);\n",
              "    }\n",
              "    90% {\n",
              "      border-color: transparent;\n",
              "      border-bottom-color: var(--fill-color);\n",
              "    }\n",
              "  }\n",
              "</style>\n",
              "\n",
              "      <script>\n",
              "        async function quickchart(key) {\n",
              "          const quickchartButtonEl =\n",
              "            document.querySelector('#' + key + ' button');\n",
              "          quickchartButtonEl.disabled = true;  // To prevent multiple clicks.\n",
              "          quickchartButtonEl.classList.add('colab-df-spinner');\n",
              "          try {\n",
              "            const charts = await google.colab.kernel.invokeFunction(\n",
              "                'suggestCharts', [key], {});\n",
              "          } catch (error) {\n",
              "            console.error('Error during call to suggestCharts:', error);\n",
              "          }\n",
              "          quickchartButtonEl.classList.remove('colab-df-spinner');\n",
              "          quickchartButtonEl.classList.add('colab-df-quickchart-complete');\n",
              "        }\n",
              "        (() => {\n",
              "          let quickchartButtonEl =\n",
              "            document.querySelector('#df-dc325b80-1cf7-41ed-bce9-f89c50b7a8b3 button');\n",
              "          quickchartButtonEl.style.display =\n",
              "            google.colab.kernel.accessAllowed ? 'block' : 'none';\n",
              "        })();\n",
              "      </script>\n",
              "    </div>\n",
              "\n",
              "    </div>\n",
              "  </div>\n"
            ],
            "application/vnd.google.colaboratory.intrinsic+json": {
              "type": "dataframe",
              "summary": "{\n  \"name\": \"dist\",\n  \"rows\": 12,\n  \"fields\": [\n    {\n      \"column\": \"x\",\n      \"properties\": {\n        \"dtype\": \"number\",\n        \"std\": 3,\n        \"min\": 0,\n        \"max\": 11,\n        \"num_unique_values\": 12,\n        \"samples\": [\n          10,\n          9,\n          0\n        ],\n        \"semantic_type\": \"\",\n        \"description\": \"\"\n      }\n    },\n    {\n      \"column\": \"P(X=x)\",\n      \"properties\": {\n        \"dtype\": \"number\",\n        \"std\": 0.09217557218150896,\n        \"min\": 8.871575484068439e-05,\n        \"max\": 0.2460576797778912,\n        \"num_unique_values\": 12,\n        \"samples\": [\n          0.0003637708808641041,\n          0.0013560085445956831,\n          0.06838107265192336\n        ],\n        \"semantic_type\": \"\",\n        \"description\": \"\"\n      }\n    }\n  ]\n}"
            }
          },
          "metadata": {},
          "execution_count": 14
        }
      ],
      "source": [
        "# ==========================================\n",
        "# 5. Distribución de Poisson - Goles por jugador\n",
        "# ==========================================\n",
        "print(\"\\n--- Distribución de Poisson (Goles Marcados) ---\")\n",
        "dist.analisis_poisson('Partidos Jugados')\n"
      ]
    },
    {
      "cell_type": "markdown",
      "id": "a162e363",
      "metadata": {
        "id": "a162e363"
      },
      "source": [
        "# DISTRIBUCION HIPERGEOMETRICA"
      ]
    },
    {
      "cell_type": "code",
      "execution_count": 15,
      "id": "36afefc5",
      "metadata": {
        "id": "36afefc5",
        "outputId": "46fddd9d-110c-4a31-f638-0a6c0e87e0c6",
        "colab": {
          "base_uri": "https://localhost:8080/",
          "height": 635
        }
      },
      "outputs": [
        {
          "output_type": "display_data",
          "data": {
            "text/plain": [
              "<Figure size 1000x500 with 1 Axes>"
            ],
            "image/png": "[encoded data removed]"
          },
          "metadata": {}
        },
        {
          "output_type": "stream",
          "name": "stdout",
          "text": [
            "Distribución Hipergeométrica (N=8108, K=882, n=20):\n",
            "  prob_0_exitos: 0.099641\n",
            "  prob_exactamente_1_exito: 0.243884\n",
            "  prob_al_menos_2_exitos: 0.656474\n"
          ]
        },
        {
          "output_type": "execute_result",
          "data": {
            "text/plain": [
              "{'prob_0_exitos': np.float64(0.09964144511363289),\n",
              " 'prob_exactamente_1_exito': np.float64(0.24388443066525373),\n",
              " 'prob_al_menos_2_exitos': np.float64(0.6564741242211134)}"
            ]
          },
          "metadata": {},
          "execution_count": 15
        }
      ],
      "source": [
        "exper.distribucion_hipergeometrica_general(df_mundial,'PLAYER_NAME','dummy_finalistas',n=20)"
      ]
    },
    {
      "cell_type": "markdown",
      "id": "deb7c398",
      "metadata": {
        "id": "deb7c398"
      },
      "source": [
        "# DISTRIBUCION NORMAL"
      ]
    },
    {
      "cell_type": "code",
      "execution_count": 16,
      "id": "9bb3ebc1",
      "metadata": {
        "id": "9bb3ebc1",
        "outputId": "6a855a04-005e-4189-fbb6-0d1bc6649b52",
        "colab": {
          "base_uri": "https://localhost:8080/",
          "height": 620
        }
      },
      "outputs": [
        {
          "output_type": "stream",
          "name": "stdout",
          "text": [
            "\n",
            "--- Distribución Normal (Edad en Mundial) ---\n"
          ]
        },
        {
          "output_type": "display_data",
          "data": {
            "text/plain": [
              "<Figure size 640x480 with 1 Axes>"
            ],
            "image/png": "[encoded data removed]"
          },
          "metadata": {}
        },
        {
          "output_type": "stream",
          "name": "stdout",
          "text": [
            "\n",
            "--- Prueba de normalidad (Shapiro-Wilk) ---\n",
            "Shapiro-Wilk: W=0.9914, p=0.0000\n",
            "Se rechaza H0: la variable no sigue una distribución normal.\n"
          ]
        },
        {
          "output_type": "stream",
          "name": "stderr",
          "text": [
            "/usr/local/lib/python3.11/dist-packages/scipy/stats/_axis_nan_policy.py:586: UserWarning: scipy.stats.shapiro: For N > 5000, computed p-value may not be accurate. Current N is 9296.\n",
            "  res = hypotest_fun_out(*samples, **kwds)\n"
          ]
        }
      ],
      "source": [
        "# ==========================================\n",
        "# 6. Distribución Normal y prueba de normalidad (Edad en Mundial)\n",
        "# ==========================================\n",
        "print(\"\\n--- Distribución Normal (Edad en Mundial) ---\")\n",
        "dist.analisis_normal('edad_enMundial')\n",
        "\n",
        "print(\"\\n--- Prueba de normalidad (Shapiro-Wilk) ---\")\n",
        "dist.prueba_normalidad('edad_enMundial')"
      ]
    },
    {
      "cell_type": "markdown",
      "id": "3a509e42",
      "metadata": {
        "id": "3a509e42"
      },
      "source": [
        "# PRUEBA T"
      ]
    },
    {
      "cell_type": "code",
      "execution_count": 17,
      "id": "4cc2cef2",
      "metadata": {
        "id": "4cc2cef2",
        "outputId": "7aa5d60e-91f3-48b5-d615-5352235cad1d",
        "colab": {
          "base_uri": "https://localhost:8080/"
        }
      },
      "outputs": [
        {
          "output_type": "stream",
          "name": "stdout",
          "text": [
            "\n",
            "--- Prueba t: Edad entre campeones y no campeones ---\n",
            "Prueba t: t=-1.1616, p=0.2459\n",
            "No se rechaza H0: no hay diferencia significativa.\n"
          ]
        }
      ],
      "source": [
        "# ==========================================\n",
        "# 7. Prueba T: Edad entre campeones y no campeones\n",
        "# ==========================================\n",
        "print(\"\\n--- Prueba t: Edad entre campeones y no campeones ---\")\n",
        "dist.prueba_t_media('edad_enMundial', 'dummy_campeon', 1, 0)"
      ]
    },
    {
      "cell_type": "markdown",
      "id": "33989f86",
      "metadata": {
        "id": "33989f86"
      },
      "source": [
        "# ANOVA"
      ]
    },
    {
      "cell_type": "code",
      "execution_count": 18,
      "id": "cf288728",
      "metadata": {
        "id": "cf288728",
        "outputId": "ea86e9ab-e41d-4a63-cef0-6192007139cc",
        "colab": {
          "base_uri": "https://localhost:8080/"
        }
      },
      "outputs": [
        {
          "output_type": "stream",
          "name": "stdout",
          "text": [
            "\n",
            "--- ANOVA: Edad promedio por confederación ---\n",
            "F = 43.0818, p = 0.0000\n"
          ]
        }
      ],
      "source": [
        "\n",
        "# ==========================================\n",
        "# 8. ANOVA: Edad por confederación\n",
        "# ==========================================\n",
        "print(\"\\n--- ANOVA: Edad promedio por confederación ---\")\n",
        "grupos = [df_mundial[df_mundial['confederacion'] == c]['edad_enMundial'].dropna()\n",
        "          for c in df_mundial['confederacion'].unique()]\n",
        "stat, p = stats.f_oneway(*grupos)\n",
        "print(f\"F = {stat:.4f}, p = {p:.4f}\")"
      ]
    },
    {
      "cell_type": "markdown",
      "id": "4ca19136",
      "metadata": {
        "id": "4ca19136"
      },
      "source": [
        "# CONCLUSIONES"
      ]
    },
    {
      "cell_type": "code",
      "execution_count": 19,
      "id": "5806889e",
      "metadata": {
        "id": "5806889e",
        "outputId": "c8f31103-ec1d-4d2a-9543-6f87c98d1ff4",
        "colab": {
          "base_uri": "https://localhost:8080/"
        }
      },
      "outputs": [
        {
          "output_type": "stream",
          "name": "stdout",
          "text": [
            "\n",
            "--- Conclusiones preliminares ---\n",
            "- Las confederaciones con mayor proporción histórica de jugadores campeones son UEFA y CONMEBOL.\n",
            "  CONMEBOL presenta una mayor tasa relativa (~11.4%) de jugadores campeones, frente a ~4.9% en UEFA.\n",
            "- La prueba t para la edad promedio entre campeones y no campeones (p=0.2459) indica que no existe diferencia significativa.\n",
            "  Por tanto, la edad en Mundial no parece estar asociada de forma directa con haber sido campeón.\n",
            "- Al comparar P(confederación ∩ campeón) con P(confederación) * P(campeón), se observa dependencia:\n",
            "  CONMEBOL tiene muchos más campeones de lo esperado bajo independencia, mientras que el resto de confederaciones no presenta campeones.\n",
            "  Esto sugiere que la probabilidad de ser campeón depende de la confederación a la que se pertenece.\n"
          ]
        }
      ],
      "source": [
        "# ==========================================\n",
        "# 9. Conclusiones preliminares\n",
        "# ==========================================\n",
        "print(\"\\n--- Conclusiones preliminares ---\")\n",
        "print(\"- Las confederaciones con mayor proporción histórica de jugadores campeones son UEFA y CONMEBOL.\")\n",
        "print(\"  CONMEBOL presenta una mayor tasa relativa (~11.4%) de jugadores campeones, frente a ~4.9% en UEFA.\")\n",
        "print(\"- La prueba t para la edad promedio entre campeones y no campeones (p=0.2459) indica que no existe diferencia significativa.\")\n",
        "print(\"  Por tanto, la edad en Mundial no parece estar asociada de forma directa con haber sido campeón.\")\n",
        "print(\"- Al comparar P(confederación ∩ campeón) con P(confederación) * P(campeón), se observa dependencia:\")\n",
        "print(\"  CONMEBOL tiene muchos más campeones de lo esperado bajo independencia, mientras que el resto de confederaciones no presenta campeones.\")\n",
        "print(\"  Esto sugiere que la probabilidad de ser campeón depende de la confederación a la que se pertenece.\")\n"
      ]
    }
  ],
  "metadata": {
    "kernelspec": {
      "display_name": "venv",
      "language": "python",
      "name": "python3"
    },
    "language_info": {
      "codemirror_mode": {
        "name": "ipython",
        "version": 3
      },
      "file_extension": ".py",
      "mimetype": "text/x-python",
      "name": "python",
      "nbconvert_exporter": "python",
      "pygments_lexer": "ipython3",
      "version": "3.11.9"
    },
    "colab": {
      "provenance": []
    }
  },
  "nbformat": 4,
  "nbformat_minor": 5
}