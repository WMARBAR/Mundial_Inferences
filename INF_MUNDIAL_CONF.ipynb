{
 "cells": [
  {
   "cell_type": "markdown",
   "id": "73a855db",
   "metadata": {},
   "source": [
    "# PROBABILIDAD DE SER CAMPEON DADO LA CONFEDERACION"
   ]
  },
  {
   "cell_type": "markdown",
   "id": "8650370e",
   "metadata": {},
   "source": [
    "# LIBS"
   ]
  },
  {
   "cell_type": "code",
   "execution_count": 44,
   "id": "6ffb30ab",
   "metadata": {},
   "outputs": [],
   "source": [
    "# ==========================================\n",
    "# Análisis completo de jugadores mundialistas\n",
    "# Basado en confederación y condición de campeón\n",
    "# ==========================================\n",
    "\n",
    "\n",
    "from exps.loaders import Loaders\n",
    "from exps.mundial_exps import Experimentos\n",
    "from exps.dists import AnalisisEstadistico\n",
    "import pandas as pd\n",
    "import scipy.stats as stats\n",
    "ld=Loaders()\n",
    "exper=Experimentos()\n",
    "\n",
    "\n",
    "# Cargar archivo Excel\n",
    "path = './datain/Proyecto_mundial.xlsx'\n",
    "df_mundial= ld.cargar_excel(path,'Sheet1')\n",
    "\n",
    "# Inicializar clases\n",
    "dist = AnalisisEstadistico(df_mundial)\n",
    "exper = Experimentos()"
   ]
  },
  {
   "cell_type": "markdown",
   "id": "750a8f5b",
   "metadata": {},
   "source": [
    "# PROBABILIDADES EMPIRICAS\n",
    "- **Espacio muestral:**  \n",
    "  $$ S = \\{ \\text{todos los jugadores registrados en los mundiales de la base de datos} \\} $$\n",
    "\n",
    "- **Evento:**  \n",
    "  $$ A = \\{ \\text{El jugador fue campeon} \\} = \\{1\\} $$\n"
   ]
  },
  {
   "cell_type": "code",
   "execution_count": 45,
   "id": "4069607b",
   "metadata": {},
   "outputs": [
    {
     "name": "stdout",
     "output_type": "stream",
     "text": [
      "--- Probabilidad empírica de ser campeón ---\n",
      "P(Campeón) = 0.0475\n",
      "\n",
      "--- Tabla de probabilidad conjunta (confederación vs campeón) ---\n",
      "dummy_campeon         0         1\n",
      "confederacion                    \n",
      "UEFA           0.509251  0.026140\n",
      "CONMEBOL       0.166738  0.021407\n",
      "AFC            0.081325  0.000000\n",
      "CONCACAF       0.089931  0.000000\n",
      "CAF            0.090792  0.000000\n",
      "OFC            0.004841  0.000000\n",
      "Otro           0.009574  0.000000\n",
      "\n",
      "--- Probabilidades marginales (confederación) ---\n",
      "confederacion\n",
      "UEFA        0.535392\n",
      "CONMEBOL    0.188145\n",
      "CAF         0.090792\n",
      "CONCACAF    0.089931\n",
      "AFC         0.081325\n",
      "Otro        0.009574\n",
      "OFC         0.004841\n",
      "Name: proportion, dtype: float64\n",
      "\n",
      "--- Probabilidad condicional P(Campeón | Confederación) ---\n",
      "dummy_campeon         0         1\n",
      "confederacion                    \n",
      "AFC            1.000000  0.000000\n",
      "CAF            1.000000  0.000000\n",
      "CONCACAF       1.000000  0.000000\n",
      "CONMEBOL       0.886221  0.113779\n",
      "OFC            1.000000  0.000000\n",
      "Otro           1.000000  0.000000\n",
      "UEFA           0.951175  0.048825\n",
      "\n",
      "--- Prueba de independencia ---\n",
      "UEFA: P(A∩B) = 0.0261, P(A)*P(B) = 0.0255, Diferencia = 0.0007\n",
      "CONMEBOL: P(A∩B) = 0.0214, P(A)*P(B) = 0.0089, Diferencia = 0.0125\n",
      "AFC: P(A∩B) = 0.0000, P(A)*P(B) = 0.0039, Diferencia = 0.0039\n",
      "CONCACAF: P(A∩B) = 0.0000, P(A)*P(B) = 0.0043, Diferencia = 0.0043\n",
      "CAF: P(A∩B) = 0.0000, P(A)*P(B) = 0.0043, Diferencia = 0.0043\n",
      "OFC: P(A∩B) = 0.0000, P(A)*P(B) = 0.0002, Diferencia = 0.0002\n",
      "Otro: P(A∩B) = 0.0000, P(A)*P(B) = 0.0005, Diferencia = 0.0005\n"
     ]
    }
   ],
   "source": [
    "\n",
    "\n",
    "# ==========================================\n",
    "# 1. Probabilidad frecuentista\n",
    "# ==========================================\n",
    "print(\"--- Probabilidad empírica de ser campeón ---\")\n",
    "p_empirica = exper.probabilidad_binaria_empirica(df_mundial, 'dummy_campeon')\n",
    "print(f\"P(Campeón) = {p_empirica:.4f}\\n\")\n",
    "\n",
    "# ==========================================\n",
    "# 2. Probabilidad conjunta y marginal\n",
    "# ==========================================\n",
    "print(\"--- Tabla de probabilidad conjunta (confederación vs campeón) ---\")\n",
    "tabla_conjunta = exper.tabla_probabilidad_conjunta(df_mundial, 'confederacion', 'dummy_campeon')\n",
    "print(tabla_conjunta)\n",
    "\n",
    "print(\"\\n--- Probabilidades marginales (confederación) ---\")\n",
    "p_marginal_confed = df_mundial['confederacion'].value_counts(normalize=True)\n",
    "print(p_marginal_confed)\n",
    "\n",
    "print(\"\\n--- Probabilidad condicional P(Campeón | Confederación) ---\")\n",
    "tabla_condicional = pd.crosstab(df_mundial['confederacion'], df_mundial['dummy_campeon'], normalize='index')\n",
    "print(tabla_condicional)\n",
    "\n",
    "# ==========================================\n",
    "# 3. Independencia entre confederación y ser campeón\n",
    "# ==========================================\n",
    "print(\"\\n--- Prueba de independencia ---\")\n",
    "for conf in tabla_conjunta.index:\n",
    "    p_conf = p_marginal_confed[conf]\n",
    "    p_conjunta = tabla_conjunta.loc[conf, 1] if 1 in tabla_conjunta.columns else 0\n",
    "    esperado = p_conf * p_empirica\n",
    "    print(f\"{conf}: P(A∩B) = {p_conjunta:.4f}, P(A)*P(B) = {esperado:.4f}, Diferencia = {abs(p_conjunta - esperado):.4f}\")\n",
    "\n",
    "\n"
   ]
  },
  {
   "cell_type": "markdown",
   "id": "e527c9ac",
   "metadata": {},
   "source": [
    "# DISTRIBUCION BINOMIAL\n"
   ]
  },
  {
   "cell_type": "code",
   "execution_count": 53,
   "id": "120af62a",
   "metadata": {},
   "outputs": [
    {
     "name": "stdout",
     "output_type": "stream",
     "text": [
      "\n",
      "--- Distribución Binomial ---\n"
     ]
    },
    {
     "data": {
      "image/png": "[encoded data removed]",
      "text/plain": [
       "<Figure size 640x480 with 1 Axes>"
      ]
     },
     "metadata": {},
     "output_type": "display_data"
    },
    {
     "data": {
      "text/html": [
       "<div>\n",
       "<style scoped>\n",
       "    .dataframe tbody tr th:only-of-type {\n",
       "        vertical-align: middle;\n",
       "    }\n",
       "\n",
       "    .dataframe tbody tr th {\n",
       "        vertical-align: top;\n",
       "    }\n",
       "\n",
       "    .dataframe thead th {\n",
       "        text-align: right;\n",
       "    }\n",
       "</style>\n",
       "<table border=\"1\" class=\"dataframe\">\n",
       "  <thead>\n",
       "    <tr style=\"text-align: right;\">\n",
       "      <th></th>\n",
       "      <th>x</th>\n",
       "      <th>P(X=x)</th>\n",
       "    </tr>\n",
       "  </thead>\n",
       "  <tbody>\n",
       "    <tr>\n",
       "      <th>0</th>\n",
       "      <td>0</td>\n",
       "      <td>6.972726e-22</td>\n",
       "    </tr>\n",
       "    <tr>\n",
       "      <th>1</th>\n",
       "      <td>1</td>\n",
       "      <td>3.480850e-20</td>\n",
       "    </tr>\n",
       "    <tr>\n",
       "      <th>2</th>\n",
       "      <td>2</td>\n",
       "      <td>8.679678e-19</td>\n",
       "    </tr>\n",
       "    <tr>\n",
       "      <th>3</th>\n",
       "      <td>3</td>\n",
       "      <td>1.441437e-17</td>\n",
       "    </tr>\n",
       "    <tr>\n",
       "      <th>4</th>\n",
       "      <td>4</td>\n",
       "      <td>1.793550e-16</td>\n",
       "    </tr>\n",
       "    <tr>\n",
       "      <th>...</th>\n",
       "      <td>...</td>\n",
       "      <td>...</td>\n",
       "    </tr>\n",
       "    <tr>\n",
       "      <th>996</th>\n",
       "      <td>996</td>\n",
       "      <td>0.000000e+00</td>\n",
       "    </tr>\n",
       "    <tr>\n",
       "      <th>997</th>\n",
       "      <td>997</td>\n",
       "      <td>0.000000e+00</td>\n",
       "    </tr>\n",
       "    <tr>\n",
       "      <th>998</th>\n",
       "      <td>998</td>\n",
       "      <td>0.000000e+00</td>\n",
       "    </tr>\n",
       "    <tr>\n",
       "      <th>999</th>\n",
       "      <td>999</td>\n",
       "      <td>0.000000e+00</td>\n",
       "    </tr>\n",
       "    <tr>\n",
       "      <th>1000</th>\n",
       "      <td>1000</td>\n",
       "      <td>0.000000e+00</td>\n",
       "    </tr>\n",
       "  </tbody>\n",
       "</table>\n",
       "<p>1001 rows × 2 columns</p>\n",
       "</div>"
      ],
      "text/plain": [
       "         x        P(X=x)\n",
       "0        0  6.972726e-22\n",
       "1        1  3.480850e-20\n",
       "2        2  8.679678e-19\n",
       "3        3  1.441437e-17\n",
       "4        4  1.793550e-16\n",
       "...    ...           ...\n",
       "996    996  0.000000e+00\n",
       "997    997  0.000000e+00\n",
       "998    998  0.000000e+00\n",
       "999    999  0.000000e+00\n",
       "1000  1000  0.000000e+00\n",
       "\n",
       "[1001 rows x 2 columns]"
      ]
     },
     "execution_count": 53,
     "metadata": {},
     "output_type": "execute_result"
    }
   ],
   "source": [
    "# ==========================================\n",
    "# 4. Distribución Binomial - campeones en muestra de 30\n",
    "# ==========================================\n",
    "print(\"\\n--- Distribución Binomial ---\")\n",
    "dist.analisis_binomial('dummy_campeon', n=1000)\n"
   ]
  },
  {
   "cell_type": "markdown",
   "id": "ff9ea789",
   "metadata": {},
   "source": [
    "# DISTRIBUCION DE POISSON\n",
    "Goles Marcados(mundial); \n",
    "Partidos Jugados; \n",
    "years_expMundial; \n",
    "edad_Player;"
   ]
  },
  {
   "cell_type": "code",
   "execution_count": 54,
   "id": "37fb3c08",
   "metadata": {},
   "outputs": [
    {
     "name": "stdout",
     "output_type": "stream",
     "text": [
      "\n",
      "--- Distribución de Poisson (Goles Marcados) ---\n"
     ]
    },
    {
     "data": {
      "image/png": "[encoded data removed]",
      "text/plain": [
       "<Figure size 640x480 with 1 Axes>"
      ]
     },
     "metadata": {},
     "output_type": "display_data"
    },
    {
     "data": {
      "text/html": [
       "<div>\n",
       "<style scoped>\n",
       "    .dataframe tbody tr th:only-of-type {\n",
       "        vertical-align: middle;\n",
       "    }\n",
       "\n",
       "    .dataframe tbody tr th {\n",
       "        vertical-align: top;\n",
       "    }\n",
       "\n",
       "    .dataframe thead th {\n",
       "        text-align: right;\n",
       "    }\n",
       "</style>\n",
       "<table border=\"1\" class=\"dataframe\">\n",
       "  <thead>\n",
       "    <tr style=\"text-align: right;\">\n",
       "      <th></th>\n",
       "      <th>x</th>\n",
       "      <th>P(X=x)</th>\n",
       "    </tr>\n",
       "  </thead>\n",
       "  <tbody>\n",
       "    <tr>\n",
       "      <th>0</th>\n",
       "      <td>0</td>\n",
       "      <td>0.068381</td>\n",
       "    </tr>\n",
       "    <tr>\n",
       "      <th>1</th>\n",
       "      <td>1</td>\n",
       "      <td>0.183443</td>\n",
       "    </tr>\n",
       "    <tr>\n",
       "      <th>2</th>\n",
       "      <td>2</td>\n",
       "      <td>0.246058</td>\n",
       "    </tr>\n",
       "    <tr>\n",
       "      <th>3</th>\n",
       "      <td>3</td>\n",
       "      <td>0.220030</td>\n",
       "    </tr>\n",
       "    <tr>\n",
       "      <th>4</th>\n",
       "      <td>4</td>\n",
       "      <td>0.147566</td>\n",
       "    </tr>\n",
       "    <tr>\n",
       "      <th>5</th>\n",
       "      <td>5</td>\n",
       "      <td>0.079174</td>\n",
       "    </tr>\n",
       "    <tr>\n",
       "      <th>6</th>\n",
       "      <td>6</td>\n",
       "      <td>0.035399</td>\n",
       "    </tr>\n",
       "    <tr>\n",
       "      <th>7</th>\n",
       "      <td>7</td>\n",
       "      <td>0.013566</td>\n",
       "    </tr>\n",
       "    <tr>\n",
       "      <th>8</th>\n",
       "      <td>8</td>\n",
       "      <td>0.004549</td>\n",
       "    </tr>\n",
       "    <tr>\n",
       "      <th>9</th>\n",
       "      <td>9</td>\n",
       "      <td>0.001356</td>\n",
       "    </tr>\n",
       "    <tr>\n",
       "      <th>10</th>\n",
       "      <td>10</td>\n",
       "      <td>0.000364</td>\n",
       "    </tr>\n",
       "    <tr>\n",
       "      <th>11</th>\n",
       "      <td>11</td>\n",
       "      <td>0.000089</td>\n",
       "    </tr>\n",
       "  </tbody>\n",
       "</table>\n",
       "</div>"
      ],
      "text/plain": [
       "     x    P(X=x)\n",
       "0    0  0.068381\n",
       "1    1  0.183443\n",
       "2    2  0.246058\n",
       "3    3  0.220030\n",
       "4    4  0.147566\n",
       "5    5  0.079174\n",
       "6    6  0.035399\n",
       "7    7  0.013566\n",
       "8    8  0.004549\n",
       "9    9  0.001356\n",
       "10  10  0.000364\n",
       "11  11  0.000089"
      ]
     },
     "execution_count": 54,
     "metadata": {},
     "output_type": "execute_result"
    }
   ],
   "source": [
    "# ==========================================\n",
    "# 5. Distribución de Poisson - Goles por jugador\n",
    "# ==========================================\n",
    "print(\"\\n--- Distribución de Poisson (Goles Marcados) ---\")\n",
    "dist.analisis_poisson('Partidos Jugados')\n"
   ]
  },
  {
   "cell_type": "markdown",
   "id": "deb7c398",
   "metadata": {},
   "source": [
    "# DISTRIBUCION NORMAL"
   ]
  },
  {
   "cell_type": "code",
   "execution_count": 48,
   "id": "9bb3ebc1",
   "metadata": {},
   "outputs": [
    {
     "name": "stdout",
     "output_type": "stream",
     "text": [
      "\n",
      "--- Distribución Normal (Edad en Mundial) ---\n"
     ]
    },
    {
     "data": {
      "image/png": "[encoded data removed]",
      "text/plain": [
       "<Figure size 640x480 with 1 Axes>"
      ]
     },
     "metadata": {},
     "output_type": "display_data"
    },
    {
     "name": "stdout",
     "output_type": "stream",
     "text": [
      "\n",
      "--- Prueba de normalidad (Shapiro-Wilk) ---\n",
      "Shapiro-Wilk: W=0.9914, p=0.0000\n",
      "Se rechaza H0: la variable no sigue una distribución normal.\n"
     ]
    },
    {
     "name": "stderr",
     "output_type": "stream",
     "text": [
      "d:\\Archivos\\Documentos\\WILSON\\GIT_HUB\\Mundial_Inferences\\venv\\Lib\\site-packages\\scipy\\stats\\_axis_nan_policy.py:586: UserWarning: scipy.stats.shapiro: For N > 5000, computed p-value may not be accurate. Current N is 9296.\n",
      "  res = hypotest_fun_out(*samples, **kwds)\n"
     ]
    }
   ],
   "source": [
    "# ==========================================\n",
    "# 6. Distribución Normal y prueba de normalidad (Edad en Mundial)\n",
    "# ==========================================\n",
    "print(\"\\n--- Distribución Normal (Edad en Mundial) ---\")\n",
    "dist.analisis_normal('edad_enMundial')\n",
    "\n",
    "print(\"\\n--- Prueba de normalidad (Shapiro-Wilk) ---\")\n",
    "dist.prueba_normalidad('edad_enMundial')"
   ]
  },
  {
   "cell_type": "markdown",
   "id": "3a509e42",
   "metadata": {},
   "source": [
    "# PRUEBA T"
   ]
  },
  {
   "cell_type": "code",
   "execution_count": 49,
   "id": "4cc2cef2",
   "metadata": {},
   "outputs": [
    {
     "name": "stdout",
     "output_type": "stream",
     "text": [
      "\n",
      "--- Prueba t: Edad entre campeones y no campeones ---\n",
      "Prueba t: t=-1.1616, p=0.2459\n",
      "No se rechaza H0: no hay diferencia significativa.\n"
     ]
    }
   ],
   "source": [
    "# ==========================================\n",
    "# 7. Prueba T: Edad entre campeones y no campeones\n",
    "# ==========================================\n",
    "print(\"\\n--- Prueba t: Edad entre campeones y no campeones ---\")\n",
    "dist.prueba_t_media('edad_enMundial', 'dummy_campeon', 1, 0)"
   ]
  },
  {
   "cell_type": "markdown",
   "id": "33989f86",
   "metadata": {},
   "source": [
    "# ANOVA"
   ]
  },
  {
   "cell_type": "code",
   "execution_count": 50,
   "id": "cf288728",
   "metadata": {},
   "outputs": [
    {
     "name": "stdout",
     "output_type": "stream",
     "text": [
      "\n",
      "--- ANOVA: Edad promedio por confederación ---\n",
      "F = 43.0818, p = 0.0000\n"
     ]
    }
   ],
   "source": [
    "\n",
    "# ==========================================\n",
    "# 8. ANOVA: Edad por confederación\n",
    "# ==========================================\n",
    "print(\"\\n--- ANOVA: Edad promedio por confederación ---\")\n",
    "grupos = [df_mundial[df_mundial['confederacion'] == c]['edad_enMundial'].dropna() \n",
    "          for c in df_mundial['confederacion'].unique()]\n",
    "stat, p = stats.f_oneway(*grupos)\n",
    "print(f\"F = {stat:.4f}, p = {p:.4f}\")"
   ]
  },
  {
   "cell_type": "markdown",
   "id": "4ca19136",
   "metadata": {},
   "source": [
    "# CONCLUSIONES"
   ]
  },
  {
   "cell_type": "code",
   "execution_count": 51,
   "id": "5806889e",
   "metadata": {},
   "outputs": [
    {
     "name": "stdout",
     "output_type": "stream",
     "text": [
      "\n",
      "--- Conclusiones preliminares ---\n",
      "- Las confederaciones con mayor proporción histórica de jugadores campeones son UEFA y CONMEBOL.\n",
      "  CONMEBOL presenta una mayor tasa relativa (~11.4%) de jugadores campeones, frente a ~4.9% en UEFA.\n",
      "- La prueba t para la edad promedio entre campeones y no campeones (p=0.2459) indica que no existe diferencia significativa.\n",
      "  Por tanto, la edad en Mundial no parece estar asociada de forma directa con haber sido campeón.\n",
      "- Al comparar P(confederación ∩ campeón) con P(confederación) * P(campeón), se observa dependencia:\n",
      "  CONMEBOL tiene muchos más campeones de lo esperado bajo independencia, mientras que el resto de confederaciones no presenta campeones.\n",
      "  Esto sugiere que la probabilidad de ser campeón depende de la confederación a la que se pertenece.\n"
     ]
    }
   ],
   "source": [
    "# ==========================================\n",
    "# 9. Conclusiones preliminares\n",
    "# ==========================================\n",
    "print(\"\\n--- Conclusiones preliminares ---\")\n",
    "print(\"- Las confederaciones con mayor proporción histórica de jugadores campeones son UEFA y CONMEBOL.\")\n",
    "print(\"  CONMEBOL presenta una mayor tasa relativa (~11.4%) de jugadores campeones, frente a ~4.9% en UEFA.\")\n",
    "print(\"- La prueba t para la edad promedio entre campeones y no campeones (p=0.2459) indica que no existe diferencia significativa.\")\n",
    "print(\"  Por tanto, la edad en Mundial no parece estar asociada de forma directa con haber sido campeón.\")\n",
    "print(\"- Al comparar P(confederación ∩ campeón) con P(confederación) * P(campeón), se observa dependencia:\")\n",
    "print(\"  CONMEBOL tiene muchos más campeones de lo esperado bajo independencia, mientras que el resto de confederaciones no presenta campeones.\")\n",
    "print(\"  Esto sugiere que la probabilidad de ser campeón depende de la confederación a la que se pertenece.\")\n"
   ]
  }
 ],
 "metadata": {
  "kernelspec": {
   "display_name": "venv",
   "language": "python",
   "name": "python3"
  },
  "language_info": {
   "codemirror_mode": {
    "name": "ipython",
    "version": 3
   },
   "file_extension": ".py",
   "mimetype": "text/x-python",
   "name": "python",
   "nbconvert_exporter": "python",
   "pygments_lexer": "ipython3",
   "version": "3.11.9"
  }
 },
 "nbformat": 4,
 "nbformat_minor": 5
}
