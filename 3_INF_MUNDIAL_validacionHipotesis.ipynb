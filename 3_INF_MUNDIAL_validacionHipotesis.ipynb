{
  "cells": [
    {
      "cell_type": "code",
      "source": [
        "!git clone https://github.com/WMARBAR/Mundial_Inferences.git"
      ],
      "metadata": {
        "id": "KJQukDenezFD",
        "outputId": "b95a0065-d39b-445c-d031-d68f4ca0f45f",
        "colab": {
          "base_uri": "https://localhost:8080/"
        }
      },
      "id": "KJQukDenezFD",
      "execution_count": 3,
      "outputs": [
        {
          "output_type": "stream",
          "name": "stdout",
          "text": [
            "fatal: destination path 'Mundial_Inferences' already exists and is not an empty directory.\n"
          ]
        }
      ]
    },
    {
      "cell_type": "code",
      "source": [
        "import sys\n",
        "sys.path.append('/content/Mundial_Inferences')  # Asegúrate que esta ruta es correcta"
      ],
      "metadata": {
        "id": "uV0jNmfWey8n"
      },
      "id": "uV0jNmfWey8n",
      "execution_count": 4,
      "outputs": []
    },
    {
      "cell_type": "markdown",
      "id": "73a855db",
      "metadata": {
        "id": "73a855db"
      },
      "source": [
        "# 3. PRUEBAS DE HIPOTESIS"
      ]
    },
    {
      "cell_type": "markdown",
      "id": "8650370e",
      "metadata": {
        "id": "8650370e"
      },
      "source": [
        "# LIBS"
      ]
    },
    {
      "cell_type": "code",
      "execution_count": 5,
      "id": "6ffb30ab",
      "metadata": {
        "id": "6ffb30ab"
      },
      "outputs": [],
      "source": [
        "# ==========================================\n",
        "# Análisis completo de jugadores mundialistas\n",
        "# Basado en confederación y condición de campeón\n",
        "# ==========================================\n",
        "\n",
        "\n",
        "from exps.loaders import Loaders\n",
        "from exps.mundial_exps_extended import Experimentos\n",
        "from exps.dists import AnalisisEstadistico\n",
        "from exps.dists import Muestreos\n",
        "import pandas as pd\n",
        "import scipy.stats as stats\n",
        "ld=Loaders()\n",
        "exper=Experimentos()\n",
        "muestreos= Muestreos()\n",
        "\n",
        "\n",
        "# Cargar archivo Excel\n",
        "path = '/content/Mundial_Inferences/datain/Proyecto_mundial.xlsx'\n",
        "df_mundial= ld.cargar_excel(path,'Sheet1')\n",
        "\n",
        "# Inicializar clases\n",
        "dist = AnalisisEstadistico(df_mundial)\n",
        "exper = Experimentos()\n",
        "\n",
        "n=2500"
      ]
    },
    {
      "cell_type": "markdown",
      "id": "1ea4d806",
      "metadata": {
        "id": "1ea4d806"
      },
      "source": [
        "## HIPOTESIS 1: LOS CAMPEONES TIENEN MÁS DEFENSAS CON CAPACIDAD DE HACER GOL"
      ]
    },
    {
      "cell_type": "markdown",
      "id": "c06f9976",
      "metadata": {
        "id": "c06f9976"
      },
      "source": [
        "### Se genera de df_mundial la base df_equipos que contiene el pais, si fue campeon y los goles por defensas"
      ]
    },
    {
      "cell_type": "code",
      "execution_count": 6,
      "id": "68121bf3",
      "metadata": {
        "id": "68121bf3"
      },
      "outputs": [],
      "source": [
        "# Filtrar jugadores que son defensas y anotaron goles\n",
        "df_defensas_anotadores = df_mundial[\n",
        "    (df_mundial['categ_posicion'].str.contains(\"Defensa\", case=False, na=False)) &\n",
        "    (df_mundial['Goles Marcados(mundial)'] == 1)\n",
        "]\n",
        "df_defensas_anotadores_por_equipo = df_defensas_anotadores.groupby('Seleccion').size().reset_index(name='n_defensas_anotadores')\n",
        "# Agrupamos para saber si una selección fue campeona\n",
        "df_campeones = df_mundial.groupby('Seleccion')['dummy_campeon'].max().reset_index()\n",
        "\n",
        "# Unimos con el conteo de defensas anotadores\n",
        "df_equipos = pd.merge(df_campeones, df_defensas_anotadores_por_equipo, on='Seleccion', how='left')\n",
        "\n",
        "# Los que no tienen defensas anotadores quedan con NaN, se reemplazan por 0\n",
        "df_equipos['n_defensas_anotadores'] = df_equipos['n_defensas_anotadores'].fillna(0)\n",
        "\n",
        "\n"
      ]
    },
    {
      "cell_type": "code",
      "execution_count": 7,
      "id": "3f728639",
      "metadata": {
        "id": "3f728639",
        "outputId": "a0646652-2e5c-4664-d8dd-2ddc39c822c6",
        "colab": {
          "base_uri": "https://localhost:8080/"
        }
      },
      "outputs": [
        {
          "output_type": "stream",
          "name": "stdout",
          "text": [
            "Media campeones: 4.75\n",
            "Media no campeones: 0.5\n",
            "Estadístico t: 3.5989923540442947\n",
            "p-valor (una cola): 0.004264662087944536\n",
            "✅ Se rechaza H₀: los campeones tienen significativamente más defensas anotadores.\n"
          ]
        }
      ],
      "source": [
        "from scipy.stats import ttest_ind\n",
        "\n",
        "# Separar los grupos\n",
        "grupo_campeon = df_equipos[df_equipos['dummy_campeon'] == 1]['n_defensas_anotadores']\n",
        "grupo_no_campeon = df_equipos[df_equipos['dummy_campeon'] == 0]['n_defensas_anotadores']\n",
        "\n",
        "# Prueba t de dos muestras independientes, asumiendo varianzas distintas\n",
        "t_stat, p_valor_dos_colas = ttest_ind(grupo_campeon, grupo_no_campeon, equal_var=False)\n",
        "\n",
        "# Como queremos una cola (mayor), dividimos p-valor por 2 y revisamos el signo del estadístico\n",
        "p_valor_una_cola = p_valor_dos_colas / 2\n",
        "\n",
        "print(\"Media campeones:\", grupo_campeon.mean())\n",
        "print(\"Media no campeones:\", grupo_no_campeon.mean())\n",
        "print(\"Estadístico t:\", t_stat)\n",
        "print(\"p-valor (una cola):\", p_valor_una_cola)\n",
        "\n",
        "if p_valor_una_cola < 0.05 and t_stat > 0:\n",
        "    print(\"✅ Se rechaza H₀: los campeones tienen significativamente más defensas anotadores.\")\n",
        "else:\n",
        "    print(\"❌ No se rechaza H₀: no se prueba que los campeones tengan más defensas anotadores.\")\n"
      ]
    },
    {
      "cell_type": "markdown",
      "id": "6b708bfb",
      "metadata": {
        "id": "6b708bfb"
      },
      "source": [
        "## HIPOTESIS 2: SUPERAR EL GRUPO DE LA MUERTE AUMENTA EL CHANCE DE LLEGAR A LA FINAL"
      ]
    },
    {
      "cell_type": "code",
      "execution_count": 8,
      "id": "231aa5e4",
      "metadata": {
        "id": "231aa5e4",
        "outputId": "4a9a679a-7e05-4e6a-8de8-679df4002593",
        "colab": {
          "base_uri": "https://localhost:8080/"
        }
      },
      "outputs": [
        {
          "output_type": "stream",
          "name": "stdout",
          "text": [
            "Proporción grupo de la muerte: 0.1904\n",
            "Proporción grupo normal: 0.0764\n",
            "Estadístico z: 13.8300\n",
            "p-valor (una cola): 0.0000\n",
            "✅ Se rechaza H₀: estar en el grupo de la muerte se asocia con mayor probabilidad de llegar a la final.\n"
          ]
        }
      ],
      "source": [
        "from statsmodels.stats.proportion import proportions_ztest\n",
        "\n",
        "# Filtrar valores\n",
        "grupo1 = df_mundial[df_mundial[\"Grupo_De_La_Muerte\"] == 1][\"dummy_finalistas\"]\n",
        "grupo2 = df_mundial[df_mundial[\"Grupo_De_La_Muerte\"] == 0][\"dummy_finalistas\"]\n",
        "\n",
        "# Número de éxitos (finalistas) y tamaño de muestra\n",
        "successes = [grupo1.sum(), grupo2.sum()]\n",
        "nobs = [len(grupo1), len(grupo2)]\n",
        "\n",
        "# Prueba de proporciones (una cola: grupo 1 > grupo 2)\n",
        "z_stat, p_val = proportions_ztest(successes, nobs, alternative='larger')\n",
        "\n",
        "# Resultados\n",
        "print(f\"Proporción grupo de la muerte: {grupo1.mean():.4f}\")\n",
        "print(f\"Proporción grupo normal: {grupo2.mean():.4f}\")\n",
        "print(f\"Estadístico z: {z_stat:.4f}\")\n",
        "print(f\"p-valor (una cola): {p_val:.4f}\")\n",
        "\n",
        "if p_val < 0.05:\n",
        "    print(\"✅ Se rechaza H₀: estar en el grupo de la muerte se asocia con mayor probabilidad de llegar a la final.\")\n",
        "else:\n",
        "    print(\"❌ No se rechaza H₀: no hay evidencia suficiente para afirmar que influye.\")\n"
      ]
    },
    {
      "cell_type": "markdown",
      "id": "e97e6b95",
      "metadata": {
        "id": "e97e6b95"
      },
      "source": [
        "## HIPOTESIS 3: LA EDAD INFLUYE EN LOS CAMPEONES"
      ]
    },
    {
      "cell_type": "code",
      "execution_count": 9,
      "id": "a6d6dbe6",
      "metadata": {
        "id": "a6d6dbe6",
        "outputId": "9a40087e-2150-4640-d006-4f2ec672e8c1",
        "colab": {
          "base_uri": "https://localhost:8080/"
        }
      },
      "outputs": [
        {
          "output_type": "stream",
          "name": "stdout",
          "text": [
            "Edad promedio campeones: 26.84\n",
            "Edad promedio NO campeones: 26.51\n"
          ]
        }
      ],
      "source": [
        "media_campeones = df_mundial[df_mundial['dummy_campeon'] == 1]['edad_Player'].mean()\n",
        "media_no_campeones = df_mundial[df_mundial['dummy_campeon'] == 0]['edad_Player'].mean()\n",
        "print(f\"Edad promedio campeones: {media_campeones:.2f}\")\n",
        "print(f\"Edad promedio NO campeones: {media_no_campeones:.2f}\")\n"
      ]
    },
    {
      "cell_type": "code",
      "execution_count": 10,
      "id": "b5e924cc",
      "metadata": {
        "id": "b5e924cc",
        "outputId": "23a086ce-af66-4c4b-ff7c-72355a04244d",
        "colab": {
          "base_uri": "https://localhost:8080/"
        }
      },
      "outputs": [
        {
          "output_type": "stream",
          "name": "stdout",
          "text": [
            "IC edad campeones: (np.float64(26.50975143092788), np.float64(27.17803137450198))\n",
            "IC edad NO campeones: (np.float64(26.436776266577162), np.float64(26.582198208236484))\n"
          ]
        }
      ],
      "source": [
        "from scipy import stats\n",
        "import numpy as np\n",
        "\n",
        "grupo1 = df_mundial[df_mundial['dummy_campeon'] == 1]['edad_Player'].dropna()\n",
        "grupo2 = df_mundial[df_mundial['dummy_campeon'] == 0]['edad_Player'].dropna()\n",
        "\n",
        "def intervalo_confianza(data, confianza=0.95):\n",
        "    n = len(data)\n",
        "    media = np.mean(data)\n",
        "    sem = stats.sem(data)\n",
        "    h = sem * stats.t.ppf((1 + confianza) / 2, n - 1)\n",
        "    return (media - h, media + h)\n",
        "\n",
        "ic_campeones = intervalo_confianza(grupo1)\n",
        "ic_no_campeones = intervalo_confianza(grupo2)\n",
        "\n",
        "print(f\"IC edad campeones: {ic_campeones}\")\n",
        "print(f\"IC edad NO campeones: {ic_no_campeones}\")\n"
      ]
    },
    {
      "cell_type": "code",
      "execution_count": 11,
      "id": "5cc588ea",
      "metadata": {
        "id": "5cc588ea",
        "outputId": "bece0c9b-1a7c-4227-fbcb-f5d4613935b8",
        "colab": {
          "base_uri": "https://localhost:8080/"
        }
      },
      "outputs": [
        {
          "output_type": "stream",
          "name": "stdout",
          "text": [
            "Prueba t: t = 1.9217, p = 0.0552\n",
            "✅ No se rechaza H₀: no hay evidencia suficiente de diferencia en la edad.\n"
          ]
        }
      ],
      "source": [
        "t_stat, p_value = stats.ttest_ind(grupo1, grupo2, equal_var=False)\n",
        "print(f\"Prueba t: t = {t_stat:.4f}, p = {p_value:.4f}\")\n",
        "if p_value < 0.05:\n",
        "    print(\"❌ Se rechaza H₀: hay diferencia significativa en la edad.\")\n",
        "else:\n",
        "    print(\"✅ No se rechaza H₀: no hay evidencia suficiente de diferencia en la edad.\")\n"
      ]
    },
    {
      "cell_type": "markdown",
      "id": "7b2bf472",
      "metadata": {
        "id": "7b2bf472"
      },
      "source": [
        "#  HIPOTESIS 4: comparar si existen diferencias significativas en las edades promedio de los jugadores entre las distintas confederaciones (ANOVA)"
      ]
    },
    {
      "cell_type": "code",
      "execution_count": 12,
      "id": "b57abef5",
      "metadata": {
        "id": "b57abef5",
        "outputId": "5534449e-d02f-460f-be13-97890fee0f2f",
        "colab": {
          "base_uri": "https://localhost:8080/"
        }
      },
      "outputs": [
        {
          "output_type": "stream",
          "name": "stdout",
          "text": [
            "Estadístico F: 43.08181015083578\n",
            "p-valor: 3.4767969602009204e-52\n",
            "✅ Se rechaza H₀: hay diferencias significativas entre confederaciones.\n"
          ]
        }
      ],
      "source": [
        "from scipy.stats import f_oneway\n",
        "\n",
        "grupos = [df_mundial[df_mundial[\"confederacion\"] == conf][\"edad_enMundial\"].dropna()\n",
        "          for conf in df_mundial[\"confederacion\"].unique()]\n",
        "\n",
        "f_stat, p_valor = f_oneway(*grupos)\n",
        "\n",
        "print(\"Estadístico F:\", f_stat)\n",
        "print(\"p-valor:\", p_valor)\n",
        "\n",
        "if p_valor < 0.05:\n",
        "    print(\"✅ Se rechaza H₀: hay diferencias significativas entre confederaciones.\")\n",
        "else:\n",
        "    print(\"❌ No se rechaza H₀: no se encontraron diferencias significativas.\")\n"
      ]
    },
    {
      "cell_type": "markdown",
      "id": "966098a5",
      "metadata": {
        "id": "966098a5"
      },
      "source": [
        "#  HIPOTESIS 5 : comparar si existen diferencias significativas en los años de experiencia en el mundial de los jugadores entre las distintas confederaciones (ANOVA)"
      ]
    },
    {
      "cell_type": "code",
      "execution_count": 13,
      "id": "39ba4ec6",
      "metadata": {
        "id": "39ba4ec6",
        "outputId": "421f09d0-438b-4b5e-8b5a-66df9342d6b8",
        "colab": {
          "base_uri": "https://localhost:8080/"
        }
      },
      "outputs": [
        {
          "output_type": "stream",
          "name": "stdout",
          "text": [
            "Estadístico F: 0.6691730639248618\n",
            "p-valor: 0.6746416457528465\n",
            "❌ No se rechaza H₀: no se encontraron diferencias significativas.\n"
          ]
        }
      ],
      "source": [
        "from scipy.stats import f_oneway\n",
        "\n",
        "grupos = [df_mundial[df_mundial[\"confederacion\"] == conf][\"years_expMundial\"].dropna()\n",
        "          for conf in df_mundial[\"confederacion\"].unique()]\n",
        "\n",
        "f_stat, p_valor = f_oneway(*grupos)\n",
        "\n",
        "print(\"Estadístico F:\", f_stat)\n",
        "print(\"p-valor:\", p_valor)\n",
        "\n",
        "if p_valor < 0.05:\n",
        "    print(\"✅ Se rechaza H₀: hay diferencias significativas entre confederaciones.\")\n",
        "else:\n",
        "    print(\"❌ No se rechaza H₀: no se encontraron diferencias significativas.\")\n"
      ]
    }
  ],
  "metadata": {
    "kernelspec": {
      "display_name": "venv",
      "language": "python",
      "name": "python3"
    },
    "language_info": {
      "codemirror_mode": {
        "name": "ipython",
        "version": 3
      },
      "file_extension": ".py",
      "mimetype": "text/x-python",
      "name": "python",
      "nbconvert_exporter": "python",
      "pygments_lexer": "ipython3",
      "version": "3.11.9"
    },
    "colab": {
      "provenance": []
    }
  },
  "nbformat": 4,
  "nbformat_minor": 5
}