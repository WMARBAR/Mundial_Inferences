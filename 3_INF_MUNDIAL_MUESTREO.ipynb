{
 "cells": [
  {
   "cell_type": "markdown",
   "id": "73a855db",
   "metadata": {},
   "source": [
    "# 3. MUESTREO INFERENCIA ESTADISTICA"
   ]
  },
  {
   "cell_type": "markdown",
   "id": "8650370e",
   "metadata": {},
   "source": [
    "# LIBS"
   ]
  },
  {
   "cell_type": "code",
   "execution_count": 12,
   "id": "6ffb30ab",
   "metadata": {},
   "outputs": [],
   "source": [
    "# ==========================================\n",
    "# Análisis completo de jugadores mundialistas\n",
    "# Basado en confederación y condición de campeón\n",
    "# ==========================================\n",
    "\n",
    "\n",
    "from exps.loaders import Loaders\n",
    "from exps.mundial_exps_extended import Experimentos\n",
    "from exps.dists import AnalisisEstadistico\n",
    "from exps.dists import Muestreos\n",
    "import pandas as pd\n",
    "import scipy.stats as stats\n",
    "ld=Loaders()\n",
    "exper=Experimentos()\n",
    "muestreos= Muestreos()\n",
    "\n",
    "\n",
    "# Cargar archivo Excel\n",
    "path = './datain/Proyecto_mundial.xlsx'\n",
    "df_mundial= ld.cargar_excel(path,'Sheet1')\n",
    "\n",
    "# Inicializar clases\n",
    "dist = AnalisisEstadistico(df_mundial)\n",
    "exper = Experimentos()\n",
    "\n",
    "n=2500"
   ]
  },
  {
   "cell_type": "markdown",
   "id": "95ca1295",
   "metadata": {},
   "source": [
    "# MUESTREO ALEATORIO SIMPLE"
   ]
  },
  {
   "cell_type": "code",
   "execution_count": 13,
   "id": "c45df230",
   "metadata": {},
   "outputs": [],
   "source": [
    "df_simple= muestreos.muestreo_aleatorio_simple(df_mundial,n)"
   ]
  },
  {
   "cell_type": "markdown",
   "id": "915e3348",
   "metadata": {},
   "source": [
    "# MUESTREO ESTRATIFICADO"
   ]
  },
  {
   "cell_type": "code",
   "execution_count": 14,
   "id": "9a15f295",
   "metadata": {},
   "outputs": [],
   "source": [
    "df_estratificado= muestreos.muestreo_estratificado(df_mundial,'FaseAlcanzada',n)\n"
   ]
  },
  {
   "cell_type": "markdown",
   "id": "0e6d26bb",
   "metadata": {},
   "source": [
    "# MUESTREO PROPORCIONAL"
   ]
  },
  {
   "cell_type": "code",
   "execution_count": 15,
   "id": "b380f084",
   "metadata": {},
   "outputs": [],
   "source": [
    "df_proporcional= muestreos.muestreo_estratificado_proporcional(df_mundial,'confederacion',n)\n",
    "\n"
   ]
  },
  {
   "cell_type": "markdown",
   "id": "d06158a6",
   "metadata": {},
   "source": [
    "# MUESTREO SISTEMATICO"
   ]
  },
  {
   "cell_type": "code",
   "execution_count": 16,
   "id": "b4364f02",
   "metadata": {},
   "outputs": [],
   "source": [
    "df_sistematico=muestreos.muestreo_sistematico(df_mundial,n)\n"
   ]
  },
  {
   "cell_type": "markdown",
   "id": "8e81bddf",
   "metadata": {},
   "source": [
    "# ESTIMACIONES PUNTUALES GOLES MARCADOS"
   ]
  },
  {
   "cell_type": "code",
   "execution_count": 17,
   "id": "1f9df1f0",
   "metadata": {},
   "outputs": [
    {
     "data": {
      "text/html": [
       "<div>\n",
       "<style scoped>\n",
       "    .dataframe tbody tr th:only-of-type {\n",
       "        vertical-align: middle;\n",
       "    }\n",
       "\n",
       "    .dataframe tbody tr th {\n",
       "        vertical-align: top;\n",
       "    }\n",
       "\n",
       "    .dataframe thead th {\n",
       "        text-align: right;\n",
       "    }\n",
       "</style>\n",
       "<table border=\"1\" class=\"dataframe\">\n",
       "  <thead>\n",
       "    <tr style=\"text-align: right;\">\n",
       "      <th></th>\n",
       "      <th>muestra</th>\n",
       "      <th>media_muestral</th>\n",
       "      <th>media_poblacional</th>\n",
       "      <th>proporcion_muestral</th>\n",
       "      <th>proporcion_poblacional</th>\n",
       "      <th>varianza_muestral</th>\n",
       "      <th>varianza_poblacional</th>\n",
       "    </tr>\n",
       "  </thead>\n",
       "  <tbody>\n",
       "    <tr>\n",
       "      <th>0</th>\n",
       "      <td>Simple</td>\n",
       "      <td>0.222000</td>\n",
       "      <td>0.212134</td>\n",
       "      <td>0.043600</td>\n",
       "      <td>0.047547</td>\n",
       "      <td>0.641773</td>\n",
       "      <td>0.534388</td>\n",
       "    </tr>\n",
       "    <tr>\n",
       "      <th>1</th>\n",
       "      <td>Estratificado</td>\n",
       "      <td>0.212134</td>\n",
       "      <td>0.212134</td>\n",
       "      <td>0.047547</td>\n",
       "      <td>0.047547</td>\n",
       "      <td>0.534446</td>\n",
       "      <td>0.534388</td>\n",
       "    </tr>\n",
       "    <tr>\n",
       "      <th>2</th>\n",
       "      <td>Conglomerado</td>\n",
       "      <td>0.231293</td>\n",
       "      <td>0.212134</td>\n",
       "      <td>0.047619</td>\n",
       "      <td>0.047547</td>\n",
       "      <td>0.622223</td>\n",
       "      <td>0.534388</td>\n",
       "    </tr>\n",
       "    <tr>\n",
       "      <th>3</th>\n",
       "      <td>Sistemático</td>\n",
       "      <td>0.229600</td>\n",
       "      <td>0.212134</td>\n",
       "      <td>0.052800</td>\n",
       "      <td>0.047547</td>\n",
       "      <td>0.629936</td>\n",
       "      <td>0.534388</td>\n",
       "    </tr>\n",
       "  </tbody>\n",
       "</table>\n",
       "</div>"
      ],
      "text/plain": [
       "         muestra  media_muestral  media_poblacional  proporcion_muestral  \\\n",
       "0         Simple        0.222000           0.212134             0.043600   \n",
       "1  Estratificado        0.212134           0.212134             0.047547   \n",
       "2   Conglomerado        0.231293           0.212134             0.047619   \n",
       "3    Sistemático        0.229600           0.212134             0.052800   \n",
       "\n",
       "   proporcion_poblacional  varianza_muestral  varianza_poblacional  \n",
       "0                0.047547           0.641773              0.534388  \n",
       "1                0.047547           0.534446              0.534388  \n",
       "2                0.047547           0.622223              0.534388  \n",
       "3                0.047547           0.629936              0.534388  "
      ]
     },
     "execution_count": 17,
     "metadata": {},
     "output_type": "execute_result"
    }
   ],
   "source": [
    "resultados = []\n",
    "resultados.append(muestreos.resumen_estimaciones(df_mundial, df_simple, \"Simple\", 'Goles Marcados(mundial)', 'dummy_campeon'))\n",
    "resultados.append(muestreos.resumen_estimaciones(df_mundial, df_estratificado, \"Estratificado\", 'Goles Marcados(mundial)', 'dummy_campeon'))\n",
    "resultados.append(muestreos.resumen_estimaciones(df_mundial, df_proporcional, \"Conglomerado\", 'Goles Marcados(mundial)', 'dummy_campeon'))\n",
    "resultados.append(muestreos.resumen_estimaciones(df_mundial, df_sistematico, \"Sistemático\", 'Goles Marcados(mundial)', 'dummy_campeon'))\n",
    "\n",
    "import pandas as pd\n",
    "df_resultados = pd.DataFrame(resultados)\n",
    "df_resultados\n"
   ]
  },
  {
   "cell_type": "markdown",
   "id": "4ae5bbeb",
   "metadata": {},
   "source": [
    "# ESTIMACIONES PUNTUALES EDAD"
   ]
  },
  {
   "cell_type": "code",
   "execution_count": 18,
   "id": "71dbfb38",
   "metadata": {},
   "outputs": [
    {
     "data": {
      "text/html": [
       "<div>\n",
       "<style scoped>\n",
       "    .dataframe tbody tr th:only-of-type {\n",
       "        vertical-align: middle;\n",
       "    }\n",
       "\n",
       "    .dataframe tbody tr th {\n",
       "        vertical-align: top;\n",
       "    }\n",
       "\n",
       "    .dataframe thead th {\n",
       "        text-align: right;\n",
       "    }\n",
       "</style>\n",
       "<table border=\"1\" class=\"dataframe\">\n",
       "  <thead>\n",
       "    <tr style=\"text-align: right;\">\n",
       "      <th></th>\n",
       "      <th>muestra</th>\n",
       "      <th>media_muestral</th>\n",
       "      <th>media_poblacional</th>\n",
       "      <th>proporcion_muestral</th>\n",
       "      <th>proporcion_poblacional</th>\n",
       "      <th>varianza_muestral</th>\n",
       "      <th>varianza_poblacional</th>\n",
       "    </tr>\n",
       "  </thead>\n",
       "  <tbody>\n",
       "    <tr>\n",
       "      <th>0</th>\n",
       "      <td>Simple</td>\n",
       "      <td>26.520000</td>\n",
       "      <td>26.525387</td>\n",
       "      <td>0.043600</td>\n",
       "      <td>0.047547</td>\n",
       "      <td>11.747099</td>\n",
       "      <td>12.212781</td>\n",
       "    </tr>\n",
       "    <tr>\n",
       "      <th>1</th>\n",
       "      <td>Estratificado</td>\n",
       "      <td>26.525387</td>\n",
       "      <td>26.525387</td>\n",
       "      <td>0.047547</td>\n",
       "      <td>0.047547</td>\n",
       "      <td>12.214095</td>\n",
       "      <td>12.212781</td>\n",
       "    </tr>\n",
       "    <tr>\n",
       "      <th>2</th>\n",
       "      <td>Conglomerado</td>\n",
       "      <td>26.561024</td>\n",
       "      <td>26.525387</td>\n",
       "      <td>0.047619</td>\n",
       "      <td>0.047547</td>\n",
       "      <td>12.129481</td>\n",
       "      <td>12.212781</td>\n",
       "    </tr>\n",
       "    <tr>\n",
       "      <th>3</th>\n",
       "      <td>Sistemático</td>\n",
       "      <td>26.368400</td>\n",
       "      <td>26.525387</td>\n",
       "      <td>0.052800</td>\n",
       "      <td>0.047547</td>\n",
       "      <td>11.524491</td>\n",
       "      <td>12.212781</td>\n",
       "    </tr>\n",
       "  </tbody>\n",
       "</table>\n",
       "</div>"
      ],
      "text/plain": [
       "         muestra  media_muestral  media_poblacional  proporcion_muestral  \\\n",
       "0         Simple       26.520000          26.525387             0.043600   \n",
       "1  Estratificado       26.525387          26.525387             0.047547   \n",
       "2   Conglomerado       26.561024          26.525387             0.047619   \n",
       "3    Sistemático       26.368400          26.525387             0.052800   \n",
       "\n",
       "   proporcion_poblacional  varianza_muestral  varianza_poblacional  \n",
       "0                0.047547          11.747099             12.212781  \n",
       "1                0.047547          12.214095             12.212781  \n",
       "2                0.047547          12.129481             12.212781  \n",
       "3                0.047547          11.524491             12.212781  "
      ]
     },
     "execution_count": 18,
     "metadata": {},
     "output_type": "execute_result"
    }
   ],
   "source": [
    "resultados = []\n",
    "resultados.append(muestreos.resumen_estimaciones(df_mundial, df_simple, \"Simple\", 'edad_Player', 'dummy_campeon'))\n",
    "resultados.append(muestreos.resumen_estimaciones(df_mundial, df_estratificado, \"Estratificado\", 'edad_Player', 'dummy_campeon'))\n",
    "resultados.append(muestreos.resumen_estimaciones(df_mundial, df_proporcional, \"Conglomerado\", 'edad_Player', 'dummy_campeon'))\n",
    "resultados.append(muestreos.resumen_estimaciones(df_mundial, df_sistematico, \"Sistemático\", 'edad_Player', 'dummy_campeon'))\n",
    "\n",
    "import pandas as pd\n",
    "df_resultados = pd.DataFrame(resultados)\n",
    "df_resultados\n"
   ]
  },
  {
   "cell_type": "markdown",
   "id": "5460dfaa",
   "metadata": {},
   "source": [
    "# ESTIMACIONES PARTIDOS JUGADOS"
   ]
  },
  {
   "cell_type": "code",
   "execution_count": 19,
   "id": "12d37bb4",
   "metadata": {},
   "outputs": [
    {
     "data": {
      "text/html": [
       "<div>\n",
       "<style scoped>\n",
       "    .dataframe tbody tr th:only-of-type {\n",
       "        vertical-align: middle;\n",
       "    }\n",
       "\n",
       "    .dataframe tbody tr th {\n",
       "        vertical-align: top;\n",
       "    }\n",
       "\n",
       "    .dataframe thead th {\n",
       "        text-align: right;\n",
       "    }\n",
       "</style>\n",
       "<table border=\"1\" class=\"dataframe\">\n",
       "  <thead>\n",
       "    <tr style=\"text-align: right;\">\n",
       "      <th></th>\n",
       "      <th>muestra</th>\n",
       "      <th>media_muestral</th>\n",
       "      <th>media_poblacional</th>\n",
       "      <th>proporcion_muestral</th>\n",
       "      <th>proporcion_poblacional</th>\n",
       "      <th>varianza_muestral</th>\n",
       "      <th>varianza_poblacional</th>\n",
       "    </tr>\n",
       "  </thead>\n",
       "  <tbody>\n",
       "    <tr>\n",
       "      <th>0</th>\n",
       "      <td>Simple</td>\n",
       "      <td>2.673200</td>\n",
       "      <td>2.682659</td>\n",
       "      <td>0.043600</td>\n",
       "      <td>0.047547</td>\n",
       "      <td>3.114848</td>\n",
       "      <td>3.060655</td>\n",
       "    </tr>\n",
       "    <tr>\n",
       "      <th>1</th>\n",
       "      <td>Estratificado</td>\n",
       "      <td>2.682659</td>\n",
       "      <td>2.682659</td>\n",
       "      <td>0.047547</td>\n",
       "      <td>0.047547</td>\n",
       "      <td>3.060984</td>\n",
       "      <td>3.060655</td>\n",
       "    </tr>\n",
       "    <tr>\n",
       "      <th>2</th>\n",
       "      <td>Conglomerado</td>\n",
       "      <td>2.717487</td>\n",
       "      <td>2.682659</td>\n",
       "      <td>0.047619</td>\n",
       "      <td>0.047547</td>\n",
       "      <td>3.056263</td>\n",
       "      <td>3.060655</td>\n",
       "    </tr>\n",
       "    <tr>\n",
       "      <th>3</th>\n",
       "      <td>Sistemático</td>\n",
       "      <td>2.726800</td>\n",
       "      <td>2.682659</td>\n",
       "      <td>0.052800</td>\n",
       "      <td>0.047547</td>\n",
       "      <td>3.046981</td>\n",
       "      <td>3.060655</td>\n",
       "    </tr>\n",
       "  </tbody>\n",
       "</table>\n",
       "</div>"
      ],
      "text/plain": [
       "         muestra  media_muestral  media_poblacional  proporcion_muestral  \\\n",
       "0         Simple        2.673200           2.682659             0.043600   \n",
       "1  Estratificado        2.682659           2.682659             0.047547   \n",
       "2   Conglomerado        2.717487           2.682659             0.047619   \n",
       "3    Sistemático        2.726800           2.682659             0.052800   \n",
       "\n",
       "   proporcion_poblacional  varianza_muestral  varianza_poblacional  \n",
       "0                0.047547           3.114848              3.060655  \n",
       "1                0.047547           3.060984              3.060655  \n",
       "2                0.047547           3.056263              3.060655  \n",
       "3                0.047547           3.046981              3.060655  "
      ]
     },
     "execution_count": 19,
     "metadata": {},
     "output_type": "execute_result"
    }
   ],
   "source": [
    "resultados = []\n",
    "resultados.append(muestreos.resumen_estimaciones(df_mundial, df_simple, \"Simple\", 'Partidos Jugados', 'dummy_campeon'))\n",
    "resultados.append(muestreos.resumen_estimaciones(df_mundial, df_estratificado, \"Estratificado\", 'Partidos Jugados', 'dummy_campeon'))\n",
    "resultados.append(muestreos.resumen_estimaciones(df_mundial, df_proporcional, \"Conglomerado\", 'Partidos Jugados', 'dummy_campeon'))\n",
    "resultados.append(muestreos.resumen_estimaciones(df_mundial, df_sistematico, \"Sistemático\", 'Partidos Jugados', 'dummy_campeon'))\n",
    "\n",
    "import pandas as pd\n",
    "df_resultados = pd.DataFrame(resultados)\n",
    "df_resultados\n"
   ]
  },
  {
   "cell_type": "markdown",
   "id": "3a7b5517",
   "metadata": {},
   "source": [
    "# INTERVALO DE CONFIANZA"
   ]
  },
  {
   "cell_type": "code",
   "execution_count": 20,
   "id": "6de3e963",
   "metadata": {},
   "outputs": [
    {
     "data": {
      "text/html": [
       "<div>\n",
       "<style scoped>\n",
       "    .dataframe tbody tr th:only-of-type {\n",
       "        vertical-align: middle;\n",
       "    }\n",
       "\n",
       "    .dataframe tbody tr th {\n",
       "        vertical-align: top;\n",
       "    }\n",
       "\n",
       "    .dataframe thead th {\n",
       "        text-align: right;\n",
       "    }\n",
       "</style>\n",
       "<table border=\"1\" class=\"dataframe\">\n",
       "  <thead>\n",
       "    <tr style=\"text-align: right;\">\n",
       "      <th></th>\n",
       "      <th>muestra</th>\n",
       "      <th>media_IC</th>\n",
       "      <th>proporcion_IC</th>\n",
       "    </tr>\n",
       "  </thead>\n",
       "  <tbody>\n",
       "    <tr>\n",
       "      <th>0</th>\n",
       "      <td>Poblacion</td>\n",
       "      <td>(26.45434272903127, 26.59643179764687)</td>\n",
       "      <td>(0.043221349150964865, 0.05187331522080794)</td>\n",
       "    </tr>\n",
       "    <tr>\n",
       "      <th>1</th>\n",
       "      <td>Simple</td>\n",
       "      <td>(26.385648228214585, 26.654351771785414)</td>\n",
       "      <td>(0.03559537271267482, 0.05160462728732518)</td>\n",
       "    </tr>\n",
       "    <tr>\n",
       "      <th>2</th>\n",
       "      <td>Estratificado</td>\n",
       "      <td>(26.45434272903127, 26.59643179764687)</td>\n",
       "      <td>(0.043221349150964865, 0.05187331522080794)</td>\n",
       "    </tr>\n",
       "    <tr>\n",
       "      <th>3</th>\n",
       "      <td>Conglomerado</td>\n",
       "      <td>(26.424476180093592, 26.69757263943422)</td>\n",
       "      <td>(0.03926954383148966, 0.055968551406605574)</td>\n",
       "    </tr>\n",
       "    <tr>\n",
       "      <th>4</th>\n",
       "      <td>Sistemático</td>\n",
       "      <td>(26.235327300298756, 26.501472699701246)</td>\n",
       "      <td>(0.04403370880762073, 0.06156629119237927)</td>\n",
       "    </tr>\n",
       "  </tbody>\n",
       "</table>\n",
       "</div>"
      ],
      "text/plain": [
       "         muestra                                  media_IC  \\\n",
       "0      Poblacion    (26.45434272903127, 26.59643179764687)   \n",
       "1         Simple  (26.385648228214585, 26.654351771785414)   \n",
       "2  Estratificado    (26.45434272903127, 26.59643179764687)   \n",
       "3   Conglomerado   (26.424476180093592, 26.69757263943422)   \n",
       "4    Sistemático  (26.235327300298756, 26.501472699701246)   \n",
       "\n",
       "                                 proporcion_IC  \n",
       "0  (0.043221349150964865, 0.05187331522080794)  \n",
       "1   (0.03559537271267482, 0.05160462728732518)  \n",
       "2  (0.043221349150964865, 0.05187331522080794)  \n",
       "3  (0.03926954383148966, 0.055968551406605574)  \n",
       "4   (0.04403370880762073, 0.06156629119237927)  "
      ]
     },
     "execution_count": 20,
     "metadata": {},
     "output_type": "execute_result"
    }
   ],
   "source": [
    "ics = []\n",
    "ics.append(muestreos.calcular_intervalos(df_mundial, \"Poblacion\", 'edad_Player', 'dummy_campeon'))\n",
    "ics.append(muestreos.calcular_intervalos(df_simple, \"Simple\", 'edad_Player', 'dummy_campeon'))\n",
    "ics.append(muestreos.calcular_intervalos(df_estratificado, \"Estratificado\", 'edad_Player', 'dummy_campeon'))\n",
    "ics.append(muestreos.calcular_intervalos(df_proporcional, \"Conglomerado\", 'edad_Player', 'dummy_campeon'))\n",
    "ics.append(muestreos.calcular_intervalos(df_sistematico, \"Sistemático\", 'edad_Player', 'dummy_campeon'))\n",
    "\n",
    "df_ics = pd.DataFrame(ics)\n",
    "df_ics"
   ]
  },
  {
   "cell_type": "code",
   "execution_count": 21,
   "id": "94b1b13b",
   "metadata": {},
   "outputs": [
    {
     "data": {
      "text/html": [
       "<div>\n",
       "<style scoped>\n",
       "    .dataframe tbody tr th:only-of-type {\n",
       "        vertical-align: middle;\n",
       "    }\n",
       "\n",
       "    .dataframe tbody tr th {\n",
       "        vertical-align: top;\n",
       "    }\n",
       "\n",
       "    .dataframe thead th {\n",
       "        text-align: right;\n",
       "    }\n",
       "</style>\n",
       "<table border=\"1\" class=\"dataframe\">\n",
       "  <thead>\n",
       "    <tr style=\"text-align: right;\">\n",
       "      <th></th>\n",
       "      <th>muestra</th>\n",
       "      <th>media_IC</th>\n",
       "      <th>proporcion_IC</th>\n",
       "    </tr>\n",
       "  </thead>\n",
       "  <tbody>\n",
       "    <tr>\n",
       "      <th>0</th>\n",
       "      <td>Poblacion</td>\n",
       "      <td>(25.902976577809792, 26.12972565971172)</td>\n",
       "      <td>(0.043221349150964865, 0.05187331522080794)</td>\n",
       "    </tr>\n",
       "    <tr>\n",
       "      <th>1</th>\n",
       "      <td>Simple</td>\n",
       "      <td>(25.795656234923904, 26.235543765076095)</td>\n",
       "      <td>(0.03559537271267482, 0.05160462728732518)</td>\n",
       "    </tr>\n",
       "    <tr>\n",
       "      <th>2</th>\n",
       "      <td>Estratificado</td>\n",
       "      <td>(25.902976577809792, 26.12972565971172)</td>\n",
       "      <td>(0.043221349150964865, 0.05187331522080794)</td>\n",
       "    </tr>\n",
       "    <tr>\n",
       "      <th>3</th>\n",
       "      <td>Conglomerado</td>\n",
       "      <td>(25.701886572156234, 26.14285132300183)</td>\n",
       "      <td>(0.03926954383148966, 0.055968551406605574)</td>\n",
       "    </tr>\n",
       "    <tr>\n",
       "      <th>4</th>\n",
       "      <td>Sistemático</td>\n",
       "      <td>(24.742779981714794, 25.191620018285203)</td>\n",
       "      <td>(0.04403370880762073, 0.06156629119237927)</td>\n",
       "    </tr>\n",
       "  </tbody>\n",
       "</table>\n",
       "</div>"
      ],
      "text/plain": [
       "         muestra                                  media_IC  \\\n",
       "0      Poblacion   (25.902976577809792, 26.12972565971172)   \n",
       "1         Simple  (25.795656234923904, 26.235543765076095)   \n",
       "2  Estratificado   (25.902976577809792, 26.12972565971172)   \n",
       "3   Conglomerado   (25.701886572156234, 26.14285132300183)   \n",
       "4    Sistemático  (24.742779981714794, 25.191620018285203)   \n",
       "\n",
       "                                 proporcion_IC  \n",
       "0  (0.043221349150964865, 0.05187331522080794)  \n",
       "1   (0.03559537271267482, 0.05160462728732518)  \n",
       "2  (0.043221349150964865, 0.05187331522080794)  \n",
       "3  (0.03926954383148966, 0.055968551406605574)  \n",
       "4   (0.04403370880762073, 0.06156629119237927)  "
      ]
     },
     "execution_count": 21,
     "metadata": {},
     "output_type": "execute_result"
    }
   ],
   "source": [
    "ics = []\n",
    "\n",
    "ics.append(muestreos.calcular_intervalos(df_mundial, \"Poblacion\", 'dias_durados', 'dummy_campeon'))\n",
    "ics.append(muestreos.calcular_intervalos(df_simple, \"Simple\", 'dias_durados', 'dummy_campeon'))\n",
    "ics.append(muestreos.calcular_intervalos(df_estratificado, \"Estratificado\", 'dias_durados', 'dummy_campeon'))\n",
    "ics.append(muestreos.calcular_intervalos(df_proporcional, \"Conglomerado\", 'dias_durados', 'dummy_campeon'))\n",
    "ics.append(muestreos.calcular_intervalos(df_sistematico, \"Sistemático\", 'dias_durados', 'dummy_campeon'))\n",
    "\n",
    "df_ics = pd.DataFrame(ics)\n",
    "df_ics"
   ]
  },
  {
   "cell_type": "code",
   "execution_count": 22,
   "id": "e4fa247f",
   "metadata": {},
   "outputs": [
    {
     "data": {
      "text/html": [
       "<div>\n",
       "<style scoped>\n",
       "    .dataframe tbody tr th:only-of-type {\n",
       "        vertical-align: middle;\n",
       "    }\n",
       "\n",
       "    .dataframe tbody tr th {\n",
       "        vertical-align: top;\n",
       "    }\n",
       "\n",
       "    .dataframe thead th {\n",
       "        text-align: right;\n",
       "    }\n",
       "</style>\n",
       "<table border=\"1\" class=\"dataframe\">\n",
       "  <thead>\n",
       "    <tr style=\"text-align: right;\">\n",
       "      <th></th>\n",
       "      <th>muestra</th>\n",
       "      <th>media_IC</th>\n",
       "      <th>proporcion_IC</th>\n",
       "    </tr>\n",
       "  </thead>\n",
       "  <tbody>\n",
       "    <tr>\n",
       "      <th>0</th>\n",
       "      <td>Poblacion</td>\n",
       "      <td>(26.45434272903127, 26.59643179764687)</td>\n",
       "      <td>(0.8034724413675077, 0.8193760956376558)</td>\n",
       "    </tr>\n",
       "    <tr>\n",
       "      <th>1</th>\n",
       "      <td>Simple</td>\n",
       "      <td>(26.385648228214585, 26.654351771785414)</td>\n",
       "      <td>(0.807005775927929, 0.8369942240720709)</td>\n",
       "    </tr>\n",
       "    <tr>\n",
       "      <th>2</th>\n",
       "      <td>Estratificado</td>\n",
       "      <td>(26.45434272903127, 26.59643179764687)</td>\n",
       "      <td>(0.8034724413675077, 0.8193760956376558)</td>\n",
       "    </tr>\n",
       "    <tr>\n",
       "      <th>3</th>\n",
       "      <td>Conglomerado</td>\n",
       "      <td>(26.424476180093592, 26.69757263943422)</td>\n",
       "      <td>(0.7945406250937527, 0.8253073140819175)</td>\n",
       "    </tr>\n",
       "    <tr>\n",
       "      <th>4</th>\n",
       "      <td>Sistemático</td>\n",
       "      <td>(26.235327300298756, 26.501472699701246)</td>\n",
       "      <td>(0.7760899206754226, 0.8079100793245775)</td>\n",
       "    </tr>\n",
       "  </tbody>\n",
       "</table>\n",
       "</div>"
      ],
      "text/plain": [
       "         muestra                                  media_IC  \\\n",
       "0      Poblacion    (26.45434272903127, 26.59643179764687)   \n",
       "1         Simple  (26.385648228214585, 26.654351771785414)   \n",
       "2  Estratificado    (26.45434272903127, 26.59643179764687)   \n",
       "3   Conglomerado   (26.424476180093592, 26.69757263943422)   \n",
       "4    Sistemático  (26.235327300298756, 26.501472699701246)   \n",
       "\n",
       "                              proporcion_IC  \n",
       "0  (0.8034724413675077, 0.8193760956376558)  \n",
       "1   (0.807005775927929, 0.8369942240720709)  \n",
       "2  (0.8034724413675077, 0.8193760956376558)  \n",
       "3  (0.7945406250937527, 0.8253073140819175)  \n",
       "4  (0.7760899206754226, 0.8079100793245775)  "
      ]
     },
     "execution_count": 22,
     "metadata": {},
     "output_type": "execute_result"
    }
   ],
   "source": [
    "ics = []\n",
    "ics.append(muestreos.calcular_intervalos(df_mundial, \"Poblacion\", 'edad_Player', 'dummy_eliminados_tempranos'))\n",
    "ics.append(muestreos.calcular_intervalos(df_simple, \"Simple\", 'edad_Player', 'dummy_eliminados_tempranos'))\n",
    "ics.append(muestreos.calcular_intervalos(df_estratificado, \"Estratificado\", 'edad_Player', 'dummy_eliminados_tempranos'))\n",
    "ics.append(muestreos.calcular_intervalos(df_proporcional, \"Conglomerado\", 'edad_Player', 'dummy_eliminados_tempranos'))\n",
    "ics.append(muestreos.calcular_intervalos(df_sistematico, \"Sistemático\", 'edad_Player', 'dummy_eliminados_tempranos'))\n",
    "\n",
    "df_ics = pd.DataFrame(ics)\n",
    "df_ics"
   ]
  },
  {
   "cell_type": "markdown",
   "id": "37d4b6c6",
   "metadata": {},
   "source": [
    "# GRAFICAS INTERVALOS DE CONFIANZA"
   ]
  },
  {
   "cell_type": "code",
   "execution_count": 23,
   "id": "c518b9ff",
   "metadata": {},
   "outputs": [],
   "source": [
    "import numpy as np\n",
    "import matplotlib.pyplot as plt\n",
    "from scipy.stats import t\n",
    "\n",
    "def graficar_intervalo_confianza(media, std, n, confianza=0.95, titulo=\"IC para la media\"):\n",
    "    \"\"\"\n",
    "    Grafica la distribución t con sombreado fuera del intervalo de confianza.\n",
    "    \n",
    "    Args:\n",
    "        media (float): Media muestral.\n",
    "        std (float): Desviación estándar muestral.\n",
    "        n (int): Tamaño de la muestra.\n",
    "        confianza (float): Nivel de confianza (por defecto 0.95).\n",
    "        titulo (str): Título del gráfico.\n",
    "    \"\"\"\n",
    "    alpha = 1 - confianza\n",
    "    df = n - 1\n",
    "    sem = std / np.sqrt(n)\n",
    "    t_crit = t.ppf(1 - alpha/2, df)\n",
    "\n",
    "    # Limites del intervalo de confianza\n",
    "    ic_low = media - t_crit * sem\n",
    "    ic_high = media + t_crit * sem\n",
    "\n",
    "    # Valores para graficar la curva t\n",
    "    x = np.linspace(media - 4*sem, media + 4*sem, 500)\n",
    "    y = t.pdf((x - media) / sem, df)\n",
    "\n",
    "    plt.figure(figsize=(10, 5))\n",
    "    plt.plot(x, y, label=f\"t-Student (df={df})\", color='blue')\n",
    "    \n",
    "    plt.axvline(x=ic_low, color='red', linestyle='--', label=\"Límite inferior IC\")\n",
    "    plt.axvline(x=ic_high, color='red', linestyle='--', label=\"Límite superior IC\")\n",
    "    \n",
    "    plt.fill_between(x, y, where=(x <= ic_low), color='red', alpha=0.3)\n",
    "    plt.fill_between(x, y, where=(x >= ic_high), color='red', alpha=0.3)\n",
    "\n",
    "    plt.title(titulo)\n",
    "    plt.xlabel(\"Media muestral\")\n",
    "    plt.ylabel(\"Densidad\")\n",
    "    plt.legend()\n",
    "    plt.grid(True)\n",
    "    plt.show()\n"
   ]
  },
  {
   "cell_type": "code",
   "execution_count": 24,
   "id": "fbaf5fec",
   "metadata": {},
   "outputs": [
    {
     "data": {
      "image/png": "[encoded data removed]",
      "text/plain": [
       "<Figure size 1000x500 with 1 Axes>"
      ]
     },
     "metadata": {},
     "output_type": "display_data"
    }
   ],
   "source": [
    "media = df_estratificado['edad_Player'].mean()\n",
    "std = df_estratificado['edad_Player'].std(ddof=1)\n",
    "n = len(df_estratificado)\n",
    "\n",
    "graficar_intervalo_confianza(media, std, n, titulo=\"IC - Muestreo Estratificado\")\n"
   ]
  },
  {
   "cell_type": "code",
   "execution_count": 25,
   "id": "bd7f8575",
   "metadata": {},
   "outputs": [
    {
     "data": {
      "image/png": "[encoded data removed]",
      "text/plain": [
       "<Figure size 1000x500 with 1 Axes>"
      ]
     },
     "metadata": {},
     "output_type": "display_data"
    }
   ],
   "source": [
    "media = df_simple['edad_Player'].mean()\n",
    "std = df_simple['edad_Player'].std(ddof=1)\n",
    "n = len(df_simple)\n",
    "\n",
    "graficar_intervalo_confianza(media, std, n, titulo=\"IC - Muestreo Estratificado\")\n"
   ]
  },
  {
   "cell_type": "code",
   "execution_count": 26,
   "id": "6105e53e",
   "metadata": {},
   "outputs": [
    {
     "data": {
      "image/png": "[encoded data removed]",
      "text/plain": [
       "<Figure size 1000x500 with 1 Axes>"
      ]
     },
     "metadata": {},
     "output_type": "display_data"
    }
   ],
   "source": [
    "media = df_mundial['edad_Player'].mean()\n",
    "std = df_mundial['edad_Player'].std(ddof=1)\n",
    "n = len(df_mundial)\n",
    "\n",
    "graficar_intervalo_confianza(media, std, n, titulo=\"IC - Muestreo Estratificado\")\n"
   ]
  }
 ],
 "metadata": {
  "kernelspec": {
   "display_name": "venv",
   "language": "python",
   "name": "python3"
  },
  "language_info": {
   "codemirror_mode": {
    "name": "ipython",
    "version": 3
   },
   "file_extension": ".py",
   "mimetype": "text/x-python",
   "name": "python",
   "nbconvert_exporter": "python",
   "pygments_lexer": "ipython3",
   "version": "3.11.9"
  }
 },
 "nbformat": 4,
 "nbformat_minor": 5
}
