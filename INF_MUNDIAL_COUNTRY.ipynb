{
 "cells": [
  {
   "cell_type": "markdown",
   "id": "73a855db",
   "metadata": {},
   "source": [
    "# PROBABILIDAD DE SER CAMPEON DADO EL PAIS"
   ]
  },
  {
   "cell_type": "markdown",
   "id": "8650370e",
   "metadata": {},
   "source": [
    "# LIBS"
   ]
  },
  {
   "cell_type": "code",
   "execution_count": 1,
   "id": "6ffb30ab",
   "metadata": {},
   "outputs": [],
   "source": [
    "# ==========================================\n",
    "# Análisis completo de jugadores mundialistas\n",
    "# Basado en confederación y condición de campeón\n",
    "# ==========================================\n",
    "\n",
    "\n",
    "from exps.loaders import Loaders\n",
    "from exps.mundial_exps import Experimentos\n",
    "from exps.dists import AnalisisEstadistico\n",
    "import pandas as pd\n",
    "import scipy.stats as stats\n",
    "ld=Loaders()\n",
    "exper=Experimentos()\n",
    "\n",
    "\n",
    "# Cargar archivo Excel\n",
    "path = './datain/Proyecto_mundial.xlsx'\n",
    "df_mundial= ld.cargar_excel(path,'Sheet1')\n",
    "\n",
    "# Inicializar clases\n",
    "dist = AnalisisEstadistico(df_mundial)\n",
    "exper = Experimentos()"
   ]
  },
  {
   "cell_type": "markdown",
   "id": "750a8f5b",
   "metadata": {},
   "source": [
    "# PROBABILIDADES EMPIRICAS"
   ]
  },
  {
   "cell_type": "code",
   "execution_count": 2,
   "id": "4069607b",
   "metadata": {},
   "outputs": [
    {
     "name": "stdout",
     "output_type": "stream",
     "text": [
      "--- Probabilidad empírica de ser campeón ---\n",
      "P(Campeón) = 0.0475\n",
      "\n",
      "--- Tabla de probabilidad conjunta (Seleccion vs campeón) ---\n",
      "dummy_campeon            0         1\n",
      "Seleccion                           \n",
      "Brasil            0.035176  0.011941\n",
      "Alemania Federal  0.033348  0.009574\n",
      "Italia            0.033348  0.009574\n",
      "Argentina         0.033133  0.004733\n",
      "Uruguay           0.023989  0.004733\n",
      "...                    ...       ...\n",
      "Turquía           0.004841  0.000000\n",
      "Ucrania           0.002474  0.000000\n",
      "Unión Soviética   0.016566  0.000000\n",
      "Yugoslavia        0.020762  0.000000\n",
      "Zaire             0.002367  0.000000\n",
      "\n",
      "[80 rows x 2 columns]\n",
      "\n",
      "--- Probabilidades marginales (Seleccion) ---\n",
      "Seleccion\n",
      "Brasil                            0.047117\n",
      "Alemania Federal                  0.042922\n",
      "Italia                            0.042922\n",
      "Argentina                         0.037866\n",
      "México                            0.035284\n",
      "                                    ...   \n",
      "Irak                              0.002367\n",
      "Canadá                            0.002367\n",
      "Eslovaquia                        0.002367\n",
      "Indias Orientales Neerlandesas    0.001936\n",
      "Cuba                              0.001614\n",
      "Name: proportion, Length: 80, dtype: float64\n",
      "\n",
      "--- Probabilidad condicional P(Campeón | Seleccion) ---\n",
      "dummy_campeon             0         1\n",
      "Seleccion                            \n",
      "Alemania Federal   0.776942  0.223058\n",
      "Alemania Oriental  1.000000  0.000000\n",
      "Angola             1.000000  0.000000\n",
      "Arabia Saudita     1.000000  0.000000\n",
      "Argelia            1.000000  0.000000\n",
      "...                     ...       ...\n",
      "Ucrania            1.000000  0.000000\n",
      "Unión Soviética    1.000000  0.000000\n",
      "Uruguay            0.835206  0.164794\n",
      "Yugoslavia         1.000000  0.000000\n",
      "Zaire              1.000000  0.000000\n",
      "\n",
      "[80 rows x 2 columns]\n",
      "\n",
      "--- Prueba de independencia ---\n",
      "Brasil: P(A∩B) = 0.0119, P(A)*P(B) = 0.0022, Diferencia = 0.0097\n",
      "Alemania Federal: P(A∩B) = 0.0096, P(A)*P(B) = 0.0020, Diferencia = 0.0075\n",
      "Italia: P(A∩B) = 0.0096, P(A)*P(B) = 0.0020, Diferencia = 0.0075\n",
      "Argentina: P(A∩B) = 0.0047, P(A)*P(B) = 0.0018, Diferencia = 0.0029\n",
      "Uruguay: P(A∩B) = 0.0047, P(A)*P(B) = 0.0014, Diferencia = 0.0034\n",
      "Inglaterra: P(A∩B) = 0.0024, P(A)*P(B) = 0.0016, Diferencia = 0.0008\n",
      "Francia: P(A∩B) = 0.0024, P(A)*P(B) = 0.0014, Diferencia = 0.0009\n",
      "España: P(A∩B) = 0.0023, P(A)*P(B) = 0.0016, Diferencia = 0.0007\n",
      "Austria: P(A∩B) = 0.0000, P(A)*P(B) = 0.0008, Diferencia = 0.0008\n",
      "Bolivia: P(A∩B) = 0.0000, P(A)*P(B) = 0.0003, Diferencia = 0.0003\n",
      "Bosnia y Herzegovina: P(A∩B) = 0.0000, P(A)*P(B) = 0.0001, Diferencia = 0.0001\n",
      "Angola: P(A∩B) = 0.0000, P(A)*P(B) = 0.0001, Diferencia = 0.0001\n",
      "Arabia Saudita: P(A∩B) = 0.0000, P(A)*P(B) = 0.0005, Diferencia = 0.0005\n",
      "Argelia: P(A∩B) = 0.0000, P(A)*P(B) = 0.0005, Diferencia = 0.0005\n",
      "Australia: P(A∩B) = 0.0000, P(A)*P(B) = 0.0005, Diferencia = 0.0005\n",
      "Alemania Oriental: P(A∩B) = 0.0000, P(A)*P(B) = 0.0001, Diferencia = 0.0001\n",
      "Checoslovaquia: P(A∩B) = 0.0000, P(A)*P(B) = 0.0009, Diferencia = 0.0009\n",
      "Canadá: P(A∩B) = 0.0000, P(A)*P(B) = 0.0001, Diferencia = 0.0001\n",
      "Camerún: P(A∩B) = 0.0000, P(A)*P(B) = 0.0008, Diferencia = 0.0008\n",
      "Bélgica: P(A∩B) = 0.0000, P(A)*P(B) = 0.0013, Diferencia = 0.0013\n",
      "Bulgaria: P(A∩B) = 0.0000, P(A)*P(B) = 0.0008, Diferencia = 0.0008\n",
      "China: P(A∩B) = 0.0000, P(A)*P(B) = 0.0001, Diferencia = 0.0001\n",
      "Corea del Sur: P(A∩B) = 0.0000, P(A)*P(B) = 0.0010, Diferencia = 0.0010\n",
      "Chile: P(A∩B) = 0.0000, P(A)*P(B) = 0.0010, Diferencia = 0.0010\n",
      "Cuba: P(A∩B) = 0.0000, P(A)*P(B) = 0.0001, Diferencia = 0.0001\n",
      "Dinamarca: P(A∩B) = 0.0000, P(A)*P(B) = 0.0005, Diferencia = 0.0005\n",
      "Ecuador: P(A∩B) = 0.0000, P(A)*P(B) = 0.0003, Diferencia = 0.0003\n",
      "Egipto: P(A∩B) = 0.0000, P(A)*P(B) = 0.0002, Diferencia = 0.0002\n",
      "El Salvador: P(A∩B) = 0.0000, P(A)*P(B) = 0.0002, Diferencia = 0.0002\n",
      "Costa Rica: P(A∩B) = 0.0000, P(A)*P(B) = 0.0005, Diferencia = 0.0005\n",
      "Colombia: P(A∩B) = 0.0000, P(A)*P(B) = 0.0006, Diferencia = 0.0006\n",
      "Corea del Norte: P(A∩B) = 0.0000, P(A)*P(B) = 0.0002, Diferencia = 0.0002\n",
      "Eslovaquia: P(A∩B) = 0.0000, P(A)*P(B) = 0.0001, Diferencia = 0.0001\n",
      "Escocia: P(A∩B) = 0.0000, P(A)*P(B) = 0.0009, Diferencia = 0.0009\n",
      "Emiratos Árabes: P(A∩B) = 0.0000, P(A)*P(B) = 0.0001, Diferencia = 0.0001\n",
      "Eslovenia: P(A∩B) = 0.0000, P(A)*P(B) = 0.0002, Diferencia = 0.0002\n",
      "Gales: P(A∩B) = 0.0000, P(A)*P(B) = 0.0001, Diferencia = 0.0001\n",
      "Ghana: P(A∩B) = 0.0000, P(A)*P(B) = 0.0003, Diferencia = 0.0003\n",
      "Grecia: P(A∩B) = 0.0000, P(A)*P(B) = 0.0003, Diferencia = 0.0003\n",
      "Estados Unidos: P(A∩B) = 0.0000, P(A)*P(B) = 0.0010, Diferencia = 0.0010\n",
      "Haití: P(A∩B) = 0.0000, P(A)*P(B) = 0.0001, Diferencia = 0.0001\n",
      "Honduras: P(A∩B) = 0.0000, P(A)*P(B) = 0.0003, Diferencia = 0.0003\n",
      "Hungría: P(A∩B) = 0.0000, P(A)*P(B) = 0.0010, Diferencia = 0.0010\n",
      "Indias Orientales Neerlandesas: P(A∩B) = 0.0000, P(A)*P(B) = 0.0001, Diferencia = 0.0001\n",
      "Irak: P(A∩B) = 0.0000, P(A)*P(B) = 0.0001, Diferencia = 0.0001\n",
      "Irlanda: P(A∩B) = 0.0000, P(A)*P(B) = 0.0003, Diferencia = 0.0003\n",
      "Costa de Marfil: P(A∩B) = 0.0000, P(A)*P(B) = 0.0003, Diferencia = 0.0003\n",
      "Croacia: P(A∩B) = 0.0000, P(A)*P(B) = 0.0005, Diferencia = 0.0005\n",
      "Irán: P(A∩B) = 0.0000, P(A)*P(B) = 0.0005, Diferencia = 0.0005\n",
      "Irlanda del Norte: P(A∩B) = 0.0000, P(A)*P(B) = 0.0003, Diferencia = 0.0003\n",
      "Jamaica: P(A∩B) = 0.0000, P(A)*P(B) = 0.0001, Diferencia = 0.0001\n",
      "Israel: P(A∩B) = 0.0000, P(A)*P(B) = 0.0001, Diferencia = 0.0001\n",
      "Kuwait: P(A∩B) = 0.0000, P(A)*P(B) = 0.0001, Diferencia = 0.0001\n",
      "Marruecos: P(A∩B) = 0.0000, P(A)*P(B) = 0.0004, Diferencia = 0.0004\n",
      "México: P(A∩B) = 0.0000, P(A)*P(B) = 0.0017, Diferencia = 0.0017\n",
      "Japón: P(A∩B) = 0.0000, P(A)*P(B) = 0.0006, Diferencia = 0.0006\n",
      "Noruega: P(A∩B) = 0.0000, P(A)*P(B) = 0.0003, Diferencia = 0.0003\n",
      "Nueva Zelanda: P(A∩B) = 0.0000, P(A)*P(B) = 0.0002, Diferencia = 0.0002\n",
      "Paraguay: P(A∩B) = 0.0000, P(A)*P(B) = 0.0009, Diferencia = 0.0009\n",
      "Países Bajos: P(A∩B) = 0.0000, P(A)*P(B) = 0.0011, Diferencia = 0.0011\n",
      "Perú: P(A∩B) = 0.0000, P(A)*P(B) = 0.0005, Diferencia = 0.0005\n",
      "Polonia: P(A∩B) = 0.0000, P(A)*P(B) = 0.0008, Diferencia = 0.0008\n",
      "Portugal: P(A∩B) = 0.0000, P(A)*P(B) = 0.0007, Diferencia = 0.0007\n",
      "Nigeria: P(A∩B) = 0.0000, P(A)*P(B) = 0.0006, Diferencia = 0.0006\n",
      "República Checa: P(A∩B) = 0.0000, P(A)*P(B) = 0.0001, Diferencia = 0.0001\n",
      "Rumania: P(A∩B) = 0.0000, P(A)*P(B) = 0.0007, Diferencia = 0.0007\n",
      "Senegal: P(A∩B) = 0.0000, P(A)*P(B) = 0.0001, Diferencia = 0.0001\n",
      "Rusia: P(A∩B) = 0.0000, P(A)*P(B) = 0.0003, Diferencia = 0.0003\n",
      "Sudáfrica: P(A∩B) = 0.0000, P(A)*P(B) = 0.0004, Diferencia = 0.0004\n",
      "Suecia: P(A∩B) = 0.0000, P(A)*P(B) = 0.0012, Diferencia = 0.0012\n",
      "Suiza: P(A∩B) = 0.0000, P(A)*P(B) = 0.0011, Diferencia = 0.0011\n",
      "Serbia: P(A∩B) = 0.0000, P(A)*P(B) = 0.0002, Diferencia = 0.0002\n",
      "Togo: P(A∩B) = 0.0000, P(A)*P(B) = 0.0001, Diferencia = 0.0001\n",
      "Trinidad y Tobago: P(A∩B) = 0.0000, P(A)*P(B) = 0.0001, Diferencia = 0.0001\n",
      "Túnez: P(A∩B) = 0.0000, P(A)*P(B) = 0.0005, Diferencia = 0.0005\n",
      "Turquía: P(A∩B) = 0.0000, P(A)*P(B) = 0.0002, Diferencia = 0.0002\n",
      "Ucrania: P(A∩B) = 0.0000, P(A)*P(B) = 0.0001, Diferencia = 0.0001\n",
      "Unión Soviética: P(A∩B) = 0.0000, P(A)*P(B) = 0.0008, Diferencia = 0.0008\n",
      "Yugoslavia: P(A∩B) = 0.0000, P(A)*P(B) = 0.0010, Diferencia = 0.0010\n",
      "Zaire: P(A∩B) = 0.0000, P(A)*P(B) = 0.0001, Diferencia = 0.0001\n"
     ]
    }
   ],
   "source": [
    "\n",
    "\n",
    "# ==========================================\n",
    "# 1. Probabilidad frecuentista\n",
    "# ==========================================\n",
    "print(\"--- Probabilidad empírica de ser campeón ---\")\n",
    "p_empirica = exper.probabilidad_binaria_empirica(df_mundial, 'dummy_campeon')\n",
    "print(f\"P(Campeón) = {p_empirica:.4f}\\n\")\n",
    "\n",
    "# ==========================================\n",
    "# 2. Probabilidad conjunta y marginal\n",
    "# ==========================================\n",
    "print(\"--- Tabla de probabilidad conjunta (Seleccion vs campeón) ---\")\n",
    "tabla_conjunta = exper.tabla_probabilidad_conjunta(df_mundial, 'Seleccion', 'dummy_campeon')\n",
    "print(tabla_conjunta)\n",
    "\n",
    "print(\"\\n--- Probabilidades marginales (Seleccion) ---\")\n",
    "p_marginal_confed = df_mundial['Seleccion'].value_counts(normalize=True)\n",
    "print(p_marginal_confed)\n",
    "\n",
    "print(\"\\n--- Probabilidad condicional P(Campeón | Seleccion) ---\")\n",
    "tabla_condicional = pd.crosstab(df_mundial['Seleccion'], df_mundial['dummy_campeon'], normalize='index')\n",
    "print(tabla_condicional)\n",
    "\n",
    "# ==========================================\n",
    "# 3. Independencia entre Seleccion y ser campeón\n",
    "# ==========================================\n",
    "print(\"\\n--- Prueba de independencia ---\")\n",
    "for conf in tabla_conjunta.index:\n",
    "    p_conf = p_marginal_confed[conf]\n",
    "    p_conjunta = tabla_conjunta.loc[conf, 1] if 1 in tabla_conjunta.columns else 0\n",
    "    esperado = p_conf * p_empirica\n",
    "    print(f\"{conf}: P(A∩B) = {p_conjunta:.4f}, P(A)*P(B) = {esperado:.4f}, Diferencia = {abs(p_conjunta - esperado):.4f}\")\n",
    "\n",
    "\n"
   ]
  },
  {
   "cell_type": "markdown",
   "id": "e527c9ac",
   "metadata": {},
   "source": [
    "# DISTRIBUCION BINOMIAL"
   ]
  },
  {
   "cell_type": "code",
   "execution_count": 3,
   "id": "120af62a",
   "metadata": {},
   "outputs": [
    {
     "name": "stdout",
     "output_type": "stream",
     "text": [
      "\n",
      "--- Distribución Binomial ---\n"
     ]
    },
    {
     "data": {
      "image/png": "[encoded data removed]",
      "text/plain": [
       "<Figure size 640x480 with 1 Axes>"
      ]
     },
     "metadata": {},
     "output_type": "display_data"
    },
    {
     "data": {
      "text/html": [
       "<div>\n",
       "<style scoped>\n",
       "    .dataframe tbody tr th:only-of-type {\n",
       "        vertical-align: middle;\n",
       "    }\n",
       "\n",
       "    .dataframe tbody tr th {\n",
       "        vertical-align: top;\n",
       "    }\n",
       "\n",
       "    .dataframe thead th {\n",
       "        text-align: right;\n",
       "    }\n",
       "</style>\n",
       "<table border=\"1\" class=\"dataframe\">\n",
       "  <thead>\n",
       "    <tr style=\"text-align: right;\">\n",
       "      <th></th>\n",
       "      <th>x</th>\n",
       "      <th>P(X=x)</th>\n",
       "    </tr>\n",
       "  </thead>\n",
       "  <tbody>\n",
       "    <tr>\n",
       "      <th>0</th>\n",
       "      <td>0</td>\n",
       "      <td>7.661967e-03</td>\n",
       "    </tr>\n",
       "    <tr>\n",
       "      <th>1</th>\n",
       "      <td>1</td>\n",
       "      <td>3.824926e-02</td>\n",
       "    </tr>\n",
       "    <tr>\n",
       "      <th>2</th>\n",
       "      <td>2</td>\n",
       "      <td>9.451722e-02</td>\n",
       "    </tr>\n",
       "    <tr>\n",
       "      <th>3</th>\n",
       "      <td>3</td>\n",
       "      <td>1.541340e-01</td>\n",
       "    </tr>\n",
       "    <tr>\n",
       "      <th>4</th>\n",
       "      <td>4</td>\n",
       "      <td>1.865920e-01</td>\n",
       "    </tr>\n",
       "    <tr>\n",
       "      <th>...</th>\n",
       "      <td>...</td>\n",
       "      <td>...</td>\n",
       "    </tr>\n",
       "    <tr>\n",
       "      <th>96</th>\n",
       "      <td>96</td>\n",
       "      <td>3.257663e-121</td>\n",
       "    </tr>\n",
       "    <tr>\n",
       "      <th>97</th>\n",
       "      <td>97</td>\n",
       "      <td>6.706211e-124</td>\n",
       "    </tr>\n",
       "    <tr>\n",
       "      <th>98</th>\n",
       "      <td>98</td>\n",
       "      <td>1.024838e-126</td>\n",
       "    </tr>\n",
       "    <tr>\n",
       "      <th>99</th>\n",
       "      <td>99</td>\n",
       "      <td>1.033553e-129</td>\n",
       "    </tr>\n",
       "    <tr>\n",
       "      <th>100</th>\n",
       "      <td>100</td>\n",
       "      <td>5.159593e-133</td>\n",
       "    </tr>\n",
       "  </tbody>\n",
       "</table>\n",
       "<p>101 rows × 2 columns</p>\n",
       "</div>"
      ],
      "text/plain": [
       "       x         P(X=x)\n",
       "0      0   7.661967e-03\n",
       "1      1   3.824926e-02\n",
       "2      2   9.451722e-02\n",
       "3      3   1.541340e-01\n",
       "4      4   1.865920e-01\n",
       "..   ...            ...\n",
       "96    96  3.257663e-121\n",
       "97    97  6.706211e-124\n",
       "98    98  1.024838e-126\n",
       "99    99  1.033553e-129\n",
       "100  100  5.159593e-133\n",
       "\n",
       "[101 rows x 2 columns]"
      ]
     },
     "execution_count": 3,
     "metadata": {},
     "output_type": "execute_result"
    }
   ],
   "source": [
    "# ==========================================\n",
    "# 4. Distribución Binomial - campeones en muestra de 30\n",
    "# ==========================================\n",
    "print(\"\\n--- Distribución Binomial ---\")\n",
    "dist.analisis_binomial('dummy_campeon', n=100)\n"
   ]
  },
  {
   "cell_type": "markdown",
   "id": "ff9ea789",
   "metadata": {},
   "source": [
    "# DISTRIBUCION DE POISSON"
   ]
  },
  {
   "cell_type": "code",
   "execution_count": 4,
   "id": "37fb3c08",
   "metadata": {},
   "outputs": [
    {
     "name": "stdout",
     "output_type": "stream",
     "text": [
      "\n",
      "--- Distribución de Poisson (Goles Marcados) ---\n"
     ]
    },
    {
     "data": {
      "image/png": "[encoded data removed]",
      "text/plain": [
       "<Figure size 640x480 with 1 Axes>"
      ]
     },
     "metadata": {},
     "output_type": "display_data"
    },
    {
     "data": {
      "text/html": [
       "<div>\n",
       "<style scoped>\n",
       "    .dataframe tbody tr th:only-of-type {\n",
       "        vertical-align: middle;\n",
       "    }\n",
       "\n",
       "    .dataframe tbody tr th {\n",
       "        vertical-align: top;\n",
       "    }\n",
       "\n",
       "    .dataframe thead th {\n",
       "        text-align: right;\n",
       "    }\n",
       "</style>\n",
       "<table border=\"1\" class=\"dataframe\">\n",
       "  <thead>\n",
       "    <tr style=\"text-align: right;\">\n",
       "      <th></th>\n",
       "      <th>x</th>\n",
       "      <th>P(X=x)</th>\n",
       "    </tr>\n",
       "  </thead>\n",
       "  <tbody>\n",
       "    <tr>\n",
       "      <th>0</th>\n",
       "      <td>0</td>\n",
       "      <td>9.535653e-01</td>\n",
       "    </tr>\n",
       "    <tr>\n",
       "      <th>1</th>\n",
       "      <td>1</td>\n",
       "      <td>4.533949e-02</td>\n",
       "    </tr>\n",
       "    <tr>\n",
       "      <th>2</th>\n",
       "      <td>2</td>\n",
       "      <td>1.077886e-03</td>\n",
       "    </tr>\n",
       "    <tr>\n",
       "      <th>3</th>\n",
       "      <td>3</td>\n",
       "      <td>1.708353e-05</td>\n",
       "    </tr>\n",
       "    <tr>\n",
       "      <th>4</th>\n",
       "      <td>4</td>\n",
       "      <td>2.030691e-07</td>\n",
       "    </tr>\n",
       "    <tr>\n",
       "      <th>5</th>\n",
       "      <td>5</td>\n",
       "      <td>1.931079e-09</td>\n",
       "    </tr>\n",
       "  </tbody>\n",
       "</table>\n",
       "</div>"
      ],
      "text/plain": [
       "   x        P(X=x)\n",
       "0  0  9.535653e-01\n",
       "1  1  4.533949e-02\n",
       "2  2  1.077886e-03\n",
       "3  3  1.708353e-05\n",
       "4  4  2.030691e-07\n",
       "5  5  1.931079e-09"
      ]
     },
     "execution_count": 4,
     "metadata": {},
     "output_type": "execute_result"
    }
   ],
   "source": [
    "# ==========================================\n",
    "# 5. Distribución de Poisson - Goles por jugador\n",
    "# ==========================================\n",
    "print(\"\\n--- Distribución de Poisson (Goles Marcados) ---\")\n",
    "dist.analisis_poisson('dummy_campeon')\n"
   ]
  },
  {
   "cell_type": "markdown",
   "id": "deb7c398",
   "metadata": {},
   "source": [
    "# DISTRIBUCION NORMAL"
   ]
  },
  {
   "cell_type": "code",
   "execution_count": 5,
   "id": "9bb3ebc1",
   "metadata": {},
   "outputs": [
    {
     "name": "stdout",
     "output_type": "stream",
     "text": [
      "\n",
      "--- Distribución Normal (Edad en Mundial) ---\n"
     ]
    },
    {
     "data": {
      "image/png": "[encoded data removed]",
      "text/plain": [
       "<Figure size 640x480 with 1 Axes>"
      ]
     },
     "metadata": {},
     "output_type": "display_data"
    },
    {
     "name": "stdout",
     "output_type": "stream",
     "text": [
      "\n",
      "--- Prueba de normalidad (Shapiro-Wilk) ---\n",
      "Shapiro-Wilk: W=0.2167, p=0.0000\n",
      "Se rechaza H0: la variable no sigue una distribución normal.\n"
     ]
    },
    {
     "name": "stderr",
     "output_type": "stream",
     "text": [
      "d:\\Archivos\\Documentos\\WILSON\\GIT_HUB\\Mundial_Inferences\\venv\\Lib\\site-packages\\scipy\\stats\\_axis_nan_policy.py:586: UserWarning: scipy.stats.shapiro: For N > 5000, computed p-value may not be accurate. Current N is 9296.\n",
      "  res = hypotest_fun_out(*samples, **kwds)\n"
     ]
    }
   ],
   "source": [
    "# ==========================================\n",
    "# 6. Distribución Normal y prueba de normalidad (Edad en Mundial)\n",
    "# ==========================================\n",
    "print(\"\\n--- Distribución Normal (Edad en Mundial) ---\")\n",
    "dist.analisis_normal('dummy_campeon')\n",
    "\n",
    "print(\"\\n--- Prueba de normalidad (Shapiro-Wilk) ---\")\n",
    "dist.prueba_normalidad('dummy_campeon')"
   ]
  },
  {
   "cell_type": "markdown",
   "id": "3a509e42",
   "metadata": {},
   "source": [
    "# PRUEBA T"
   ]
  },
  {
   "cell_type": "code",
   "execution_count": 6,
   "id": "4cc2cef2",
   "metadata": {},
   "outputs": [
    {
     "name": "stdout",
     "output_type": "stream",
     "text": [
      "\n",
      "--- Prueba t: Edad entre campeones y no campeones ---\n",
      "Prueba t: t=-1.1616, p=0.2459\n",
      "No se rechaza H0: no hay diferencia significativa.\n"
     ]
    }
   ],
   "source": [
    "# ==========================================\n",
    "# 7. Prueba T: Edad entre campeones y no campeones\n",
    "# ==========================================\n",
    "print(\"\\n--- Prueba t: Edad entre campeones y no campeones ---\")\n",
    "dist.prueba_t_media('edad_enMundial', 'dummy_campeon', 1, 0)"
   ]
  },
  {
   "cell_type": "markdown",
   "id": "33989f86",
   "metadata": {},
   "source": [
    "# ANOVA"
   ]
  },
  {
   "cell_type": "code",
   "execution_count": 7,
   "id": "cf288728",
   "metadata": {},
   "outputs": [
    {
     "name": "stdout",
     "output_type": "stream",
     "text": [
      "\n",
      "--- ANOVA: Edad promedio por confederación ---\n",
      "F = 43.0818, p = 0.0000\n"
     ]
    }
   ],
   "source": [
    "\n",
    "# ==========================================\n",
    "# 8. ANOVA: Edad por confederación\n",
    "# ==========================================\n",
    "print(\"\\n--- ANOVA: Edad promedio por confederación ---\")\n",
    "grupos = [df_mundial[df_mundial['confederacion'] == c]['edad_enMundial'].dropna() \n",
    "          for c in df_mundial['confederacion'].unique()]\n",
    "stat, p = stats.f_oneway(*grupos)\n",
    "print(f\"F = {stat:.4f}, p = {p:.4f}\")"
   ]
  },
  {
   "cell_type": "markdown",
   "id": "4ca19136",
   "metadata": {},
   "source": [
    "# CONCLUSIONES"
   ]
  },
  {
   "cell_type": "code",
   "execution_count": 8,
   "id": "5806889e",
   "metadata": {},
   "outputs": [
    {
     "name": "stdout",
     "output_type": "stream",
     "text": [
      "\n",
      "--- Conclusiones preliminares ---\n",
      "- Las confederaciones con mayor proporción histórica de jugadores campeones son UEFA y CONMEBOL.\n",
      "  CONMEBOL presenta una mayor tasa relativa (~11.4%) de jugadores campeones, frente a ~4.9% en UEFA.\n",
      "- La prueba t para la edad promedio entre campeones y no campeones (p=0.2459) indica que no existe diferencia significativa.\n",
      "  Por tanto, la edad en Mundial no parece estar asociada de forma directa con haber sido campeón.\n",
      "- Al comparar P(confederación ∩ campeón) con P(confederación) * P(campeón), se observa dependencia:\n",
      "  CONMEBOL tiene muchos más campeones de lo esperado bajo independencia, mientras que el resto de confederaciones no presenta campeones.\n",
      "  Esto sugiere que la probabilidad de ser campeón depende de la confederación a la que se pertenece.\n"
     ]
    }
   ],
   "source": [
    "# ==========================================\n",
    "# 9. Conclusiones preliminares\n",
    "# ==========================================\n",
    "print(\"\\n--- Conclusiones preliminares ---\")\n",
    "print(\"- Las confederaciones con mayor proporción histórica de jugadores campeones son UEFA y CONMEBOL.\")\n",
    "print(\"  CONMEBOL presenta una mayor tasa relativa (~11.4%) de jugadores campeones, frente a ~4.9% en UEFA.\")\n",
    "print(\"- La prueba t para la edad promedio entre campeones y no campeones (p=0.2459) indica que no existe diferencia significativa.\")\n",
    "print(\"  Por tanto, la edad en Mundial no parece estar asociada de forma directa con haber sido campeón.\")\n",
    "print(\"- Al comparar P(confederación ∩ campeón) con P(confederación) * P(campeón), se observa dependencia:\")\n",
    "print(\"  CONMEBOL tiene muchos más campeones de lo esperado bajo independencia, mientras que el resto de confederaciones no presenta campeones.\")\n",
    "print(\"  Esto sugiere que la probabilidad de ser campeón depende de la confederación a la que se pertenece.\")\n"
   ]
  }
 ],
 "metadata": {
  "kernelspec": {
   "display_name": "venv",
   "language": "python",
   "name": "python3"
  },
  "language_info": {
   "codemirror_mode": {
    "name": "ipython",
    "version": 3
   },
   "file_extension": ".py",
   "mimetype": "text/x-python",
   "name": "python",
   "nbconvert_exporter": "python",
   "pygments_lexer": "ipython3",
   "version": "3.11.9"
  }
 },
 "nbformat": 4,
 "nbformat_minor": 5
}
